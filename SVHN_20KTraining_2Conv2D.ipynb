{
 "cells": [
  {
   "cell_type": "code",
   "execution_count": 4,
   "metadata": {
    "id": "mthLO25_20W0"
   },
   "outputs": [],
   "source": [
    "import numpy as np\n",
    "import keras\n",
    "import seaborn as sns\n",
    "from matplotlib import pyplot as plt\n",
    "from scipy.io import loadmat\n",
    "from sklearn.model_selection import train_test_split\n",
    "from sklearn.preprocessing import LabelBinarizer\n",
    "from sklearn.metrics import confusion_matrix\n",
    "from keras.preprocessing.image import ImageDataGenerator\n",
    "from time import time\n",
    "%matplotlib inline"
   ]
  },
  {
   "cell_type": "code",
   "execution_count": 5,
   "metadata": {
    "id": "nv0TaFM12_TB"
   },
   "outputs": [],
   "source": [
    "# Set random state\n",
    "\n",
    "np.random.seed(20)"
   ]
  },
  {
   "cell_type": "code",
   "execution_count": 6,
   "metadata": {
    "id": "hPx5aIlO31SR"
   },
   "outputs": [],
   "source": [
    "# Load the data\n",
    "\n",
    "train_raw = loadmat('/content/sample_data/train_32x32.mat')\n",
    "test_raw = loadmat('/content/sample_data/test_32x32.mat')"
   ]
  },
  {
   "cell_type": "code",
   "execution_count": 7,
   "metadata": {
    "id": "JvOHRFZJ5HY4"
   },
   "outputs": [],
   "source": [
    "# Load images and labels\n",
    "\n",
    "train_images = np.array(train_raw['X'])\n",
    "test_images = np.array(test_raw['X'])\n",
    "\n",
    "train_labels = train_raw['y']\n",
    "test_labels = test_raw['y']"
   ]
  },
  {
   "cell_type": "code",
   "execution_count": 8,
   "metadata": {
    "colab": {
     "base_uri": "https://localhost:8080/"
    },
    "id": "_94IAEBd5J1Q",
    "outputId": "3229578c-5426-41f2-c5c9-dd699151c2fe"
   },
   "outputs": [
    {
     "name": "stdout",
     "output_type": "stream",
     "text": [
      "(73257, 32, 32, 3)\n",
      "(26032, 32, 32, 3)\n"
     ]
    }
   ],
   "source": [
    "train_images = np.moveaxis(train_images, -1, 0)\n",
    "test_images = np.moveaxis(test_images, -1, 0)\n",
    "\n",
    "print(train_images.shape)\n",
    "print(test_images.shape)\n",
    "\n"
   ]
  },
  {
   "cell_type": "code",
   "execution_count": 9,
   "metadata": {
    "colab": {
     "base_uri": "https://localhost:8080/",
     "height": 283
    },
    "id": "gIbQbQED5Mx9",
    "outputId": "a35e8d2b-a225-4fa4-a31d-59c6b96fe7e6"
   },
   "outputs": [
    {
     "data": {
      "image/png": "[encoded data removed]",
      "text/plain": [
       "<Figure size 432x288 with 1 Axes>"
      ]
     },
     "metadata": {
      "needs_background": "light",
      "tags": []
     },
     "output_type": "display_data"
    },
    {
     "name": "stdout",
     "output_type": "stream",
     "text": [
      "Label:  [4]\n"
     ]
    }
   ],
   "source": [
    "# Plot a random image and its label\n",
    "\n",
    "plt.imshow(train_images[13000])\n",
    "plt.show()\n",
    "\n",
    "print('Label: ', train_labels[13000])"
   ]
  },
  {
   "cell_type": "code",
   "execution_count": 10,
   "metadata": {
    "id": "kw6Lk8Gn5QBe"
   },
   "outputs": [],
   "source": [
    "# Convert train and test images into 'float64' type\n",
    "\n",
    "train_images = train_images.astype('float64')\n",
    "test_images = test_images.astype('float64')"
   ]
  },
  {
   "cell_type": "code",
   "execution_count": 11,
   "metadata": {
    "id": "W1Vi4LEN5TT3"
   },
   "outputs": [],
   "source": [
    "# Convert train and test labels into 'int64' type\n",
    "\n",
    "train_labels = train_labels.astype('int64')\n",
    "test_labels = test_labels.astype('int64')"
   ]
  },
  {
   "cell_type": "code",
   "execution_count": 12,
   "metadata": {
    "colab": {
     "base_uri": "https://localhost:8080/"
    },
    "id": "tB2NYh1p5Vje",
    "outputId": "ce489473-fd09-4d5a-af5d-edabf88f1b05"
   },
   "outputs": [
    {
     "name": "stdout",
     "output_type": "stream",
     "text": [
      "Min: 0.0, Max: 255.0\n"
     ]
    }
   ],
   "source": [
    "# Normalize the images data\n",
    "\n",
    "print('Min: {}, Max: {}'.format(train_images.min(), train_images.max()))\n",
    "\n",
    "train_images /= 255.0\n",
    "test_images /= 255.0"
   ]
  },
  {
   "cell_type": "code",
   "execution_count": 13,
   "metadata": {
    "id": "hSTTm5vs5Yu4"
   },
   "outputs": [],
   "source": [
    "# One-hot encoding of train and test labels\n",
    "\n",
    "lb = LabelBinarizer()\n",
    "train_labels = lb.fit_transform(train_labels)\n",
    "test_labels = lb.fit_transform(test_labels)"
   ]
  },
  {
   "cell_type": "code",
   "execution_count": 14,
   "metadata": {
    "id": "wxHINbSq5bcy"
   },
   "outputs": [],
   "source": [
    "# Split train data into train and validation sets\n",
    "\n",
    "X_train, X_val, y_train, y_val = train_test_split(train_images, train_labels,\n",
    "                                                  test_size=0.15, random_state=22)"
   ]
  },
  {
   "cell_type": "code",
   "execution_count": 15,
   "metadata": {
    "id": "U1BkExig5d9t"
   },
   "outputs": [],
   "source": [
    "X_train = X_train[:20000,:,:,:]\n",
    "y_train = y_train[:20000]\n",
    "\n",
    "X_val = X_val[:10000,:,:,:]\n",
    "y_val = y_val[:10000]"
   ]
  },
  {
   "cell_type": "code",
   "execution_count": 16,
   "metadata": {
    "colab": {
     "base_uri": "https://localhost:8080/"
    },
    "id": "hgXNplt3Mvyp",
    "outputId": "2b70198c-5815-444d-ec62-1f2c757bc2e3"
   },
   "outputs": [
    {
     "name": "stdout",
     "output_type": "stream",
     "text": [
      "(20000, 10)\n"
     ]
    }
   ],
   "source": [
    "print(y_train[:30000].shape)"
   ]
  },
  {
   "cell_type": "code",
   "execution_count": 17,
   "metadata": {
    "id": "10Zi2ZCQ5mPd"
   },
   "outputs": [],
   "source": [
    "# Data augmentation (CNN Layer)\n",
    "\n",
    "datagen = ImageDataGenerator(rotation_range=8,\n",
    "                             zoom_range=[0.95, 1.05],\n",
    "                             height_shift_range=0.10,\n",
    "                             shear_range=0.15)"
   ]
  },
  {
   "cell_type": "code",
   "execution_count": 18,
   "metadata": {
    "id": "U8PurCTH52nN"
   },
   "outputs": [],
   "source": [
    "# Define actual model\n",
    "\n",
    "keras.backend.clear_session()\n",
    "\n",
    "model = keras.Sequential([\n",
    "    keras.layers.Conv2D(32, (5, 5), padding='same', \n",
    "                           activation='relu',\n",
    "                           input_shape=(32, 32, 3)),\n",
    "    keras.layers.BatchNormalization(),\n",
    "    keras.layers.MaxPooling2D((2, 2)),\n",
    "\n",
    "    \n",
    "    keras.layers.Conv2D(64, (5, 5), padding='same', \n",
    "                           activation='relu'),\n",
    "    keras.layers.BatchNormalization(),\n",
    "    keras.layers.MaxPooling2D((2, 2)),\n",
    "    keras.layers.Dropout(0.3),\n",
    "    \n",
    "    keras.layers.Flatten(),\n",
    "    keras.layers.Dense(1000, activation='relu'),\n",
    "    keras.layers.Dropout(0.4),    \n",
    "    keras.layers.Dense(10,  activation='softmax')\n",
    "])\n",
    "\n",
    "early_stopping = keras.callbacks.EarlyStopping(monitor='loss', patience=8)\n",
    "optimizer = keras.optimizers.Adam(lr=1e-3, amsgrad=True)\n",
    "model_checkpoint = keras.callbacks.ModelCheckpoint(\n",
    "                   '/content/sample_data/best_cnn.h5', \n",
    "                   save_best_only=True)\n",
    "model.compile(optimizer=optimizer,\n",
    "              loss='categorical_crossentropy',\n",
    "              metrics=['accuracy'])"
   ]
  },
  {
   "cell_type": "code",
   "execution_count": 19,
   "metadata": {
    "colab": {
     "base_uri": "https://localhost:8080/"
    },
    "id": "U89oJock53Uc",
    "outputId": "e653071b-111e-492d-f442-e8a585d0a02b"
   },
   "outputs": [
    {
     "name": "stdout",
     "output_type": "stream",
     "text": [
      "Model: \"sequential\"\n",
      "_________________________________________________________________\n",
      "Layer (type)                 Output Shape              Param #   \n",
      "=================================================================\n",
      "conv2d (Conv2D)              (None, 32, 32, 32)        2432      \n",
      "_________________________________________________________________\n",
      "batch_normalization (BatchNo (None, 32, 32, 32)        128       \n",
      "_________________________________________________________________\n",
      "max_pooling2d (MaxPooling2D) (None, 16, 16, 32)        0         \n",
      "_________________________________________________________________\n",
      "conv2d_1 (Conv2D)            (None, 16, 16, 64)        51264     \n",
      "_________________________________________________________________\n",
      "batch_normalization_1 (Batch (None, 16, 16, 64)        256       \n",
      "_________________________________________________________________\n",
      "max_pooling2d_1 (MaxPooling2 (None, 8, 8, 64)          0         \n",
      "_________________________________________________________________\n",
      "dropout (Dropout)            (None, 8, 8, 64)          0         \n",
      "_________________________________________________________________\n",
      "flatten (Flatten)            (None, 4096)              0         \n",
      "_________________________________________________________________\n",
      "dense (Dense)                (None, 1000)              4097000   \n",
      "_________________________________________________________________\n",
      "dropout_1 (Dropout)          (None, 1000)              0         \n",
      "_________________________________________________________________\n",
      "dense_1 (Dense)              (None, 10)                10010     \n",
      "=================================================================\n",
      "Total params: 4,161,090\n",
      "Trainable params: 4,160,898\n",
      "Non-trainable params: 192\n",
      "_________________________________________________________________\n"
     ]
    }
   ],
   "source": [
    "model.summary()"
   ]
  },
  {
   "cell_type": "code",
   "execution_count": 20,
   "metadata": {
    "colab": {
     "base_uri": "https://localhost:8080/"
    },
    "id": "XXkv4k7D55Zn",
    "outputId": "49b3844a-4a22-4a1e-f18c-d8029dd08f09"
   },
   "outputs": [
    {
     "name": "stderr",
     "output_type": "stream",
     "text": [
      "/usr/local/lib/python3.7/dist-packages/tensorflow/python/keras/engine/training.py:1844: UserWarning: `Model.fit_generator` is deprecated and will be removed in a future version. Please use `Model.fit`, which supports generators.\n",
      "  warnings.warn('`Model.fit_generator` is deprecated and '\n"
     ]
    },
    {
     "name": "stdout",
     "output_type": "stream",
     "text": [
      "Epoch 1/30\n",
      "157/157 [==============================] - 109s 689ms/step - loss: 3.9363 - accuracy: 0.2419 - val_loss: 3.2998 - val_accuracy: 0.2332\n",
      "Epoch 2/30\n",
      "157/157 [==============================] - 104s 660ms/step - loss: 0.9976 - accuracy: 0.6726 - val_loss: 2.8078 - val_accuracy: 0.3768\n",
      "Epoch 3/30\n",
      "157/157 [==============================] - 104s 663ms/step - loss: 0.7387 - accuracy: 0.7645 - val_loss: 1.1000 - val_accuracy: 0.6843\n",
      "Epoch 4/30\n",
      "157/157 [==============================] - 105s 668ms/step - loss: 0.6364 - accuracy: 0.7955 - val_loss: 0.4704 - val_accuracy: 0.8635\n",
      "Epoch 5/30\n",
      "157/157 [==============================] - 104s 663ms/step - loss: 0.5835 - accuracy: 0.8128 - val_loss: 0.4778 - val_accuracy: 0.8601\n",
      "Epoch 6/30\n",
      "157/157 [==============================] - 105s 668ms/step - loss: 0.5035 - accuracy: 0.8343 - val_loss: 0.4011 - val_accuracy: 0.8810\n",
      "Epoch 7/30\n",
      "157/157 [==============================] - 104s 664ms/step - loss: 0.4888 - accuracy: 0.8427 - val_loss: 0.4053 - val_accuracy: 0.8851\n",
      "Epoch 8/30\n",
      "157/157 [==============================] - 103s 658ms/step - loss: 0.4694 - accuracy: 0.8522 - val_loss: 0.3723 - val_accuracy: 0.8892\n",
      "Epoch 9/30\n",
      "157/157 [==============================] - 103s 659ms/step - loss: 0.4186 - accuracy: 0.8711 - val_loss: 0.3794 - val_accuracy: 0.8938\n",
      "Epoch 10/30\n",
      "157/157 [==============================] - 104s 662ms/step - loss: 0.3950 - accuracy: 0.8767 - val_loss: 0.3746 - val_accuracy: 0.8900\n",
      "Epoch 11/30\n",
      "157/157 [==============================] - 103s 658ms/step - loss: 0.3609 - accuracy: 0.8876 - val_loss: 0.3482 - val_accuracy: 0.9010\n",
      "Epoch 12/30\n",
      "157/157 [==============================] - 103s 657ms/step - loss: 0.3444 - accuracy: 0.8903 - val_loss: 0.3927 - val_accuracy: 0.8832\n",
      "Epoch 13/30\n",
      "157/157 [==============================] - 105s 666ms/step - loss: 0.3298 - accuracy: 0.8942 - val_loss: 0.3671 - val_accuracy: 0.8943\n",
      "Epoch 14/30\n",
      "157/157 [==============================] - 104s 664ms/step - loss: 0.3183 - accuracy: 0.9004 - val_loss: 0.3589 - val_accuracy: 0.8954\n",
      "Epoch 15/30\n",
      "157/157 [==============================] - 104s 663ms/step - loss: 0.2888 - accuracy: 0.9087 - val_loss: 0.3289 - val_accuracy: 0.9082\n",
      "Epoch 16/30\n",
      "157/157 [==============================] - 104s 662ms/step - loss: 0.2707 - accuracy: 0.9105 - val_loss: 0.4216 - val_accuracy: 0.8897\n",
      "Epoch 17/30\n",
      "157/157 [==============================] - 103s 659ms/step - loss: 0.2809 - accuracy: 0.9116 - val_loss: 0.3442 - val_accuracy: 0.9069\n",
      "Epoch 18/30\n",
      "157/157 [==============================] - 103s 659ms/step - loss: 0.2592 - accuracy: 0.9147 - val_loss: 0.3338 - val_accuracy: 0.9080\n",
      "Epoch 19/30\n",
      "157/157 [==============================] - 104s 661ms/step - loss: 0.2446 - accuracy: 0.9232 - val_loss: 0.3294 - val_accuracy: 0.9092\n",
      "Epoch 20/30\n",
      "157/157 [==============================] - 104s 661ms/step - loss: 0.2401 - accuracy: 0.9211 - val_loss: 0.3627 - val_accuracy: 0.8999\n",
      "Epoch 21/30\n",
      "157/157 [==============================] - 104s 659ms/step - loss: 0.2249 - accuracy: 0.9273 - val_loss: 0.3519 - val_accuracy: 0.9030\n",
      "Epoch 22/30\n",
      "157/157 [==============================] - 104s 664ms/step - loss: 0.2129 - accuracy: 0.9333 - val_loss: 0.3480 - val_accuracy: 0.9054\n",
      "Epoch 23/30\n",
      "157/157 [==============================] - 104s 661ms/step - loss: 0.2105 - accuracy: 0.9301 - val_loss: 0.3442 - val_accuracy: 0.9077\n",
      "Epoch 24/30\n",
      "157/157 [==============================] - 104s 660ms/step - loss: 0.1971 - accuracy: 0.9345 - val_loss: 0.3769 - val_accuracy: 0.8973\n",
      "Epoch 25/30\n",
      "157/157 [==============================] - 104s 663ms/step - loss: 0.2046 - accuracy: 0.9331 - val_loss: 0.3447 - val_accuracy: 0.9064\n",
      "Epoch 26/30\n",
      "157/157 [==============================] - 104s 661ms/step - loss: 0.1884 - accuracy: 0.9396 - val_loss: 0.3610 - val_accuracy: 0.9076\n",
      "Epoch 27/30\n",
      "157/157 [==============================] - 103s 656ms/step - loss: 0.1593 - accuracy: 0.9504 - val_loss: 0.3398 - val_accuracy: 0.9156\n",
      "Epoch 28/30\n",
      "157/157 [==============================] - 103s 653ms/step - loss: 0.1712 - accuracy: 0.9439 - val_loss: 0.3278 - val_accuracy: 0.9122\n",
      "Epoch 29/30\n",
      "157/157 [==============================] - 102s 650ms/step - loss: 0.1595 - accuracy: 0.9483 - val_loss: 0.3522 - val_accuracy: 0.9099\n",
      "Epoch 30/30\n",
      "157/157 [==============================] - 102s 647ms/step - loss: 0.1616 - accuracy: 0.9477 - val_loss: 0.3283 - val_accuracy: 0.9150\n",
      "Time taken to train the data: 3117.945 seconds\n"
     ]
    }
   ],
   "source": [
    "# Fit model in order to make predictions\n",
    "start = time()\n",
    "history = model.fit_generator(datagen.flow(X_train, y_train, batch_size=128),\n",
    "                              epochs=30, validation_data=(X_val, y_val),\n",
    "                              callbacks=[early_stopping, model_checkpoint])\n",
    "end = time()\n",
    "end = end - start\n",
    "print('Time taken to train the data: {:.3f} seconds'.format(end))"
   ]
  },
  {
   "cell_type": "code",
   "execution_count": 21,
   "metadata": {
    "id": "W0VoQOkh6ADL"
   },
   "outputs": [],
   "source": [
    "# Evaluate train and validation accuracies and losses\n",
    "\n",
    "train_acc = history.history['accuracy']\n",
    "val_acc = history.history['val_accuracy']\n",
    "\n",
    "train_loss = history.history['loss']\n",
    "val_loss = history.history['val_loss']"
   ]
  },
  {
   "cell_type": "code",
   "execution_count": 22,
   "metadata": {
    "colab": {
     "base_uri": "https://localhost:8080/",
     "height": 607
    },
    "id": "6sV9xtH76DNH",
    "outputId": "285b3a26-0ef6-4ecc-92c6-7d58279fef8e"
   },
   "outputs": [
    {
     "data": {
      "image/png": "[encoded data removed]",
      "text/plain": [
       "<Figure size 1440x720 with 2 Axes>"
      ]
     },
     "metadata": {
      "needs_background": "light",
      "tags": []
     },
     "output_type": "display_data"
    }
   ],
   "source": [
    "# Visualize epochs vs. train and validation accuracies and losses\n",
    "\n",
    "plt.figure(figsize=(20, 10))\n",
    "\n",
    "plt.subplot(1, 2, 1)\n",
    "plt.plot(train_acc, label='Training Accuracy')\n",
    "plt.plot(val_acc, label='Validation Accuracy')\n",
    "plt.legend()\n",
    "plt.title('Epochs vs. Training and Validation Accuracy')\n",
    "    \n",
    "plt.subplot(1, 2, 2)\n",
    "plt.plot(train_loss, label='Training Loss')\n",
    "plt.plot(val_loss, label='Validation Loss')\n",
    "plt.legend()\n",
    "plt.title('Epochs vs. Training and Validation Loss')\n",
    "\n",
    "plt.show()"
   ]
  },
  {
   "cell_type": "code",
   "execution_count": 23,
   "metadata": {
    "colab": {
     "base_uri": "https://localhost:8080/"
    },
    "id": "-Lhe-2r26IzY",
    "outputId": "a2aa4f59-1ea9-41f5-a40d-bc126e6d3f34"
   },
   "outputs": [
    {
     "name": "stdout",
     "output_type": "stream",
     "text": [
      "Test accuracy is: 0.9062 \n",
      "Test loss is: 0.3628\n"
     ]
    }
   ],
   "source": [
    "# Evaluate model on test data\n",
    "test_loss, test_acc = model.evaluate(x=test_images, y=test_labels, verbose=0)\n",
    "\n",
    "print('Test accuracy is: {:0.4f} \\nTest loss is: {:0.4f}'.\n",
    "      format(test_acc, test_loss))"
   ]
  },
  {
   "cell_type": "code",
   "execution_count": 24,
   "metadata": {
    "id": "1bbO-a366M7d"
   },
   "outputs": [],
   "source": [
    "# Get predictions and apply inverse transformation to the labels (visualization and impacts)\n",
    "\n",
    "y_pred = model.predict(X_train)\n",
    "\n",
    "y_pred = lb.inverse_transform(y_pred, lb.classes_)\n",
    "y_train = lb.inverse_transform(y_train, lb.classes_)"
   ]
  },
  {
   "cell_type": "code",
   "execution_count": 25,
   "metadata": {
    "colab": {
     "base_uri": "https://localhost:8080/",
     "height": 730
    },
    "id": "Q34CLxZ26R5P",
    "outputId": "b6dfe977-3bad-4a65-ead5-24d147aca952"
   },
   "outputs": [
    {
     "data": {
      "image/png": "[encoded data removed]",
      "text/plain": [
       "<Figure size 1008x864 with 2 Axes>"
      ]
     },
     "metadata": {
      "needs_background": "light",
      "tags": []
     },
     "output_type": "display_data"
    }
   ],
   "source": [
    "# Plot the confusion matrix\n",
    "\n",
    "matrix = confusion_matrix(y_train, y_pred, labels=lb.classes_)\n",
    "\n",
    "fig, ax = plt.subplots(figsize=(14, 12))\n",
    "sns.heatmap(matrix, annot=True, cmap='Greens', fmt='d', ax=ax)\n",
    "plt.title('Confusion Matrix for training dataset')\n",
    "plt.xlabel('Predicted label')\n",
    "plt.ylabel('True label')\n",
    "plt.show()"
   ]
  },
  {
   "cell_type": "code",
   "execution_count": 26,
   "metadata": {
    "colab": {
     "base_uri": "https://localhost:8080/"
    },
    "id": "aXKk9fdA6Vjr",
    "outputId": "cb5b0e17-1599-4c0d-fc97-58f4a8d20311"
   },
   "outputs": [
    {
     "data": {
      "text/plain": [
       "{'divide': 'warn', 'invalid': 'warn', 'over': 'warn', 'under': 'ignore'}"
      ]
     },
     "execution_count": 26,
     "metadata": {
      "tags": []
     },
     "output_type": "execute_result"
    }
   ],
   "source": [
    "# Ignore the errors in the plots\n",
    "\n",
    "np.seterr(all='ignore')"
   ]
  },
  {
   "cell_type": "code",
   "execution_count": 27,
   "metadata": {
    "colab": {
     "base_uri": "https://localhost:8080/",
     "height": 350
    },
    "id": "444cMIQ_6Yaf",
    "outputId": "956f5883-0a04-40a3-86b6-de9b7ef1b337"
   },
   "outputs": [
    {
     "ename": "ValueError",
     "evalue": "ignored",
     "output_type": "error",
     "traceback": [
      "\u001b[0;31m---------------------------------------------------------------------------\u001b[0m",
      "\u001b[0;31mValueError\u001b[0m                                Traceback (most recent call last)",
      "\u001b[0;32m<ipython-input-27-8b64633d7ce5>\u001b[0m in \u001b[0;36m<module>\u001b[0;34m()\u001b[0m\n\u001b[1;32m      2\u001b[0m \u001b[0;34m\u001b[0m\u001b[0m\n\u001b[1;32m      3\u001b[0m layers = [model.get_layer('conv2d_1'), \n\u001b[0;32m----> 4\u001b[0;31m           \u001b[0mmodel\u001b[0m\u001b[0;34m.\u001b[0m\u001b[0mget_layer\u001b[0m\u001b[0;34m(\u001b[0m\u001b[0;34m'conv2d_2'\u001b[0m\u001b[0;34m)\u001b[0m\u001b[0;34m,\u001b[0m\u001b[0;34m\u001b[0m\u001b[0;34m\u001b[0m\u001b[0m\n\u001b[0m\u001b[1;32m      5\u001b[0m           \u001b[0mmodel\u001b[0m\u001b[0;34m.\u001b[0m\u001b[0mget_layer\u001b[0m\u001b[0;34m(\u001b[0m\u001b[0;34m'conv2d_3'\u001b[0m\u001b[0;34m)\u001b[0m\u001b[0;34m,\u001b[0m\u001b[0;34m\u001b[0m\u001b[0;34m\u001b[0m\u001b[0m\n\u001b[1;32m      6\u001b[0m ]\n",
      "\u001b[0;32m/usr/local/lib/python3.7/dist-packages/tensorflow/python/keras/engine/training.py\u001b[0m in \u001b[0;36mget_layer\u001b[0;34m(self, name, index)\u001b[0m\n\u001b[1;32m   2421\u001b[0m         \u001b[0;32mif\u001b[0m \u001b[0mlayer\u001b[0m\u001b[0;34m.\u001b[0m\u001b[0mname\u001b[0m \u001b[0;34m==\u001b[0m \u001b[0mname\u001b[0m\u001b[0;34m:\u001b[0m\u001b[0;34m\u001b[0m\u001b[0;34m\u001b[0m\u001b[0m\n\u001b[1;32m   2422\u001b[0m           \u001b[0;32mreturn\u001b[0m \u001b[0mlayer\u001b[0m\u001b[0;34m\u001b[0m\u001b[0;34m\u001b[0m\u001b[0m\n\u001b[0;32m-> 2423\u001b[0;31m       \u001b[0;32mraise\u001b[0m \u001b[0mValueError\u001b[0m\u001b[0;34m(\u001b[0m\u001b[0;34m'No such layer: '\u001b[0m \u001b[0;34m+\u001b[0m \u001b[0mname\u001b[0m \u001b[0;34m+\u001b[0m \u001b[0;34m'.'\u001b[0m\u001b[0;34m)\u001b[0m\u001b[0;34m\u001b[0m\u001b[0;34m\u001b[0m\u001b[0m\n\u001b[0m\u001b[1;32m   2424\u001b[0m     \u001b[0;32mraise\u001b[0m \u001b[0mValueError\u001b[0m\u001b[0;34m(\u001b[0m\u001b[0;34m'Provide either a layer name or layer index.'\u001b[0m\u001b[0;34m)\u001b[0m\u001b[0;34m\u001b[0m\u001b[0;34m\u001b[0m\u001b[0m\n\u001b[1;32m   2425\u001b[0m \u001b[0;34m\u001b[0m\u001b[0m\n",
      "\u001b[0;31mValueError\u001b[0m: No such layer: conv2d_2."
     ]
    }
   ],
   "source": [
    "# Get convolutional layers\n",
    "\n",
    "layers = [model.get_layer('conv2d_1'), \n",
    "\n",
    "]"
   ]
  },
  {
   "cell_type": "code",
   "execution_count": null,
   "metadata": {
    "id": "tjrmjBml6ajn"
   },
   "outputs": [],
   "source": [
    "# Define a model which gives the outputs of the layers\n",
    "\n",
    "layer_outputs = [layer.output for layer in layers]\n",
    "activation_model = keras.models.Model(inputs=model.input, outputs=layer_outputs)"
   ]
  },
  {
   "cell_type": "code",
   "execution_count": null,
   "metadata": {
    "id": "BEfSKZ5t6dhY"
   },
   "outputs": [],
   "source": [
    "# Create a list with the names of the layers\n",
    "\n",
    "layer_names = []\n",
    "for layer in layers:\n",
    "    layer_names.append(layer.name)"
   ]
  },
  {
   "cell_type": "code",
   "execution_count": null,
   "metadata": {
    "id": "lrUOUnNW6hR2"
   },
   "outputs": [],
   "source": [
    "# Define a function which will plot the convolutional filters\n",
    "\n",
    "def plot_convolutional_filters(img):\n",
    "    \n",
    "    img = np.expand_dims(img, axis=0)\n",
    "    activations = activation_model.predict(img)\n",
    "    images_per_row = 9\n",
    "    \n",
    "    for layer_name, layer_activation in zip(layer_names, activations): \n",
    "        n_features = layer_activation.shape[-1]\n",
    "        size = layer_activation.shape[1]\n",
    "        n_cols = n_features // images_per_row\n",
    "        display_grid = np.zeros((size * n_cols, images_per_row * size))\n",
    "        for col in range(n_cols): \n",
    "            for row in range(images_per_row):\n",
    "                channel_image = layer_activation[0,\n",
    "                                                 :, :,\n",
    "                                                 col * images_per_row + row]\n",
    "                channel_image -= channel_image.mean()\n",
    "                channel_image /= channel_image.std()\n",
    "                channel_image *= 64\n",
    "                channel_image += 128\n",
    "                channel_image = np.clip(channel_image, 0, 255).astype('uint8')\n",
    "                display_grid[col * size : (col + 1) * size,\n",
    "                             row * size : (row + 1) * size] = channel_image\n",
    "        scale = 1. / size\n",
    "        plt.figure(figsize=(scale * display_grid.shape[1],\n",
    "                            scale * display_grid.shape[0]))\n",
    "        plt.title(layer_name)\n",
    "        plt.grid(False)\n",
    "        plt.imshow(display_grid, aspect='auto', cmap='plasma')"
   ]
  },
  {
   "cell_type": "code",
   "execution_count": null,
   "metadata": {
    "id": "4Jo4pHJT6j7T"
   },
   "outputs": [],
   "source": [
    "img = X_train[13529]\n",
    "plt.imshow(img)\n",
    "plt.show()"
   ]
  },
  {
   "cell_type": "code",
   "execution_count": null,
   "metadata": {
    "id": "HpK4ueAj6oWh"
   },
   "outputs": [],
   "source": [
    "plot_convolutional_filters(img)"
   ]
  }
 ],
 "metadata": {
  "colab": {
   "name": "SVHN_Madhu.ipynb",
   "provenance": []
  },
  "kernelspec": {
   "display_name": "Python 3",
   "language": "python",
   "name": "python3"
  },
  "language_info": {
   "codemirror_mode": {
    "name": "ipython",
    "version": 3
   },
   "file_extension": ".py",
   "mimetype": "text/x-python",
   "name": "python",
   "nbconvert_exporter": "python",
   "pygments_lexer": "ipython3",
   "version": "3.7.10"
  }
 },
 "nbformat": 4,
 "nbformat_minor": 1
}
