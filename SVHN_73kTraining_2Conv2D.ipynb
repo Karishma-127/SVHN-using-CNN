{
  "nbformat": 4,
  "nbformat_minor": 0,
  "metadata": {
    "colab": {
      "name": "Entire_DataTraining_2Conv2D.ipynb",
      "provenance": [],
      "collapsed_sections": []
    },
    "kernelspec": {
      "name": "python3",
      "display_name": "Python 3"
    },
    "language_info": {
      "name": "python"
    }
  },
  "cells": [
    {
      "cell_type": "code",
      "metadata": {
        "id": "wVO_st4fP6PY"
      },
      "source": [
        "import tensorflow as tf\n",
        "import numpy as np\n",
        "import keras\n",
        "import seaborn as sns\n",
        "from matplotlib import pyplot as plt\n",
        "from scipy.io import loadmat\n",
        "from sklearn.model_selection import train_test_split\n",
        "from sklearn.preprocessing import LabelBinarizer\n",
        "from sklearn.metrics import confusion_matrix\n",
        "from keras.preprocessing.image import ImageDataGenerator\n",
        "from time import time\n",
        "%matplotlib inline"
      ],
      "execution_count": null,
      "outputs": []
    },
    {
      "cell_type": "code",
      "metadata": {
        "id": "iPxs686wRlGZ"
      },
      "source": [
        "# Set random state\n",
        "\n",
        "np.random.seed(20)"
      ],
      "execution_count": null,
      "outputs": []
    },
    {
      "cell_type": "code",
      "metadata": {
        "id": "rRJRkyr0RlyA"
      },
      "source": [
        "# Load the data\n",
        "train_raw = loadmat('/content/sample_data/train_32x32.mat')\n",
        "test_raw = loadmat('/content/sample_data/test_32x32.mat')"
      ],
      "execution_count": null,
      "outputs": []
    },
    {
      "cell_type": "code",
      "metadata": {
        "id": "EClqLysIRnZv"
      },
      "source": [
        "# Load images and labels\n",
        "\n",
        "train_images = np.array(train_raw['X'])\n",
        "test_images = np.array(test_raw['X'])\n",
        "\n",
        "train_labels = train_raw['y']\n",
        "test_labels = test_raw['y']"
      ],
      "execution_count": null,
      "outputs": []
    },
    {
      "cell_type": "code",
      "metadata": {
        "colab": {
          "base_uri": "https://localhost:8080/"
        },
        "id": "tpbsmr02RpC_",
        "outputId": "70d168f8-5c6c-48df-cab5-f245d8a38998"
      },
      "source": [
        "train_images = np.moveaxis(train_images, -1, 0)\n",
        "test_images = np.moveaxis(test_images, -1, 0)\n",
        "\n",
        "print(train_images.shape)\n",
        "print(test_images.shape)"
      ],
      "execution_count": null,
      "outputs": [
        {
          "output_type": "stream",
          "text": [
            "(73257, 32, 32, 3)\n",
            "(26032, 32, 32, 3)\n"
          ],
          "name": "stdout"
        }
      ]
    },
    {
      "cell_type": "code",
      "metadata": {
        "colab": {
          "base_uri": "https://localhost:8080/",
          "height": 283
        },
        "id": "1BHoCg1BRqr-",
        "outputId": "b1090cf2-42df-44d9-ca9e-a3dbe07f1948"
      },
      "source": [
        "# Plot a random image and its label\n",
        "\n",
        "plt.imshow(train_images[13000])\n",
        "plt.show()\n",
        "\n",
        "print('Label: ', train_labels[13000])"
      ],
      "execution_count": null,
      "outputs": [
        {
          "output_type": "display_data",
          "data": {
            "image/png": "[encoded data removed]",
            "text/plain": [
              "<Figure size 432x288 with 1 Axes>"
            ]
          },
          "metadata": {
            "tags": [],
            "needs_background": "light"
          }
        },
        {
          "output_type": "stream",
          "text": [
            "Label:  [4]\n"
          ],
          "name": "stdout"
        }
      ]
    },
    {
      "cell_type": "code",
      "metadata": {
        "id": "JlXZSmjlRsln"
      },
      "source": [
        "# Convert train and test images into 'float64' type\n",
        "\n",
        "train_images = train_images.astype('float64')\n",
        "test_images = test_images.astype('float64')"
      ],
      "execution_count": null,
      "outputs": []
    },
    {
      "cell_type": "code",
      "metadata": {
        "id": "bF1TUk64Rvgm"
      },
      "source": [
        "# Convert train and test labels into 'int64' type\n",
        "\n",
        "train_labels = train_labels.astype('int64')\n",
        "test_labels = test_labels.astype('int64')"
      ],
      "execution_count": null,
      "outputs": []
    },
    {
      "cell_type": "code",
      "metadata": {
        "colab": {
          "base_uri": "https://localhost:8080/"
        },
        "id": "u4c7T1FZR0nG",
        "outputId": "d3a6e1d8-4d2c-46a2-e457-66e149087589"
      },
      "source": [
        "# Normalize the images data\n",
        "\n",
        "print('Min: {}, Max: {}'.format(train_images.min(), train_images.max()))\n",
        "\n",
        "train_images /= 255.0\n",
        "test_images /= 255.0"
      ],
      "execution_count": null,
      "outputs": [
        {
          "output_type": "stream",
          "text": [
            "Min: 0.0, Max: 255.0\n"
          ],
          "name": "stdout"
        }
      ]
    },
    {
      "cell_type": "code",
      "metadata": {
        "id": "jTSgz20jR2Pe"
      },
      "source": [
        "# One-hot encoding of train and test labels\n",
        "\n",
        "lb = LabelBinarizer()\n",
        "train_labels = lb.fit_transform(train_labels)\n",
        "test_labels = lb.fit_transform(test_labels)"
      ],
      "execution_count": null,
      "outputs": []
    },
    {
      "cell_type": "code",
      "metadata": {
        "id": "NcMbXjnAR4BK"
      },
      "source": [
        "# Split train data into train and validation sets\n",
        "\n",
        "X_train, X_val, y_train, y_val = train_test_split(train_images, train_labels,\n",
        "                                                  test_size=0.15, random_state=22)"
      ],
      "execution_count": null,
      "outputs": []
    },
    {
      "cell_type": "code",
      "metadata": {
        "colab": {
          "base_uri": "https://localhost:8080/"
        },
        "id": "mhfSt56zR6il",
        "outputId": "c905195b-a4e6-4600-ec28-b511e83da6cd"
      },
      "source": [
        "y_val.shape"
      ],
      "execution_count": null,
      "outputs": [
        {
          "output_type": "execute_result",
          "data": {
            "text/plain": [
              "(10989, 10)"
            ]
          },
          "metadata": {
            "tags": []
          },
          "execution_count": 44
        }
      ]
    },
    {
      "cell_type": "code",
      "metadata": {
        "id": "KPoi17qNSAt9"
      },
      "source": [
        "# Data augmentation (CNN Layer)\n",
        "\n",
        "datagen = ImageDataGenerator(rotation_range=8,\n",
        "                             zoom_range=[0.95, 1.05],\n",
        "                             height_shift_range=0.10,\n",
        "                             shear_range=0.15)"
      ],
      "execution_count": null,
      "outputs": []
    },
    {
      "cell_type": "code",
      "metadata": {
        "id": "mjgmLMY4SCAs"
      },
      "source": [
        "# Define actual model\n",
        "\n",
        "\n",
        "keras.backend.clear_session()\n",
        "\n",
        "model = keras.Sequential([\n",
        "    keras.layers.Conv2D(32, (5, 5), padding='same', \n",
        "                           activation='relu',\n",
        "                           input_shape=(32, 32, 3)),\n",
        "                          \n",
        "    keras.layers.BatchNormalization(),\n",
        "    keras.layers.MaxPooling2D((2, 2)), \n",
        "\n",
        "    keras.layers.Conv2D(64, (5, 5), padding='same', \n",
        "                        activation='relu'),\n",
        "     \n",
        "    keras.layers.BatchNormalization(),\n",
        "    keras.layers.MaxPooling2D((2, 2)),    \n",
        "    keras.layers.Dropout(0.3),\n",
        "    \n",
        "    keras.layers.Flatten(),\n",
        "    keras.layers.Dense(1000, activation='relu'),\n",
        "    keras.layers.Dropout(0.4),    \n",
        "    keras.layers.Dense(10,  activation='softmax')\n",
        "])\n",
        "\n",
        "early_stopping = keras.callbacks.EarlyStopping(monitor='loss', patience=8)\n",
        "optimizer = keras.optimizers.Adam(lr=1e-3, amsgrad=True)\n",
        "model_checkpoint = keras.callbacks.ModelCheckpoint(\n",
        "                   '/content/sample_data/best_cnn.h5', \n",
        "                   save_best_only=True)\n",
        "model.compile(optimizer=optimizer,\n",
        "              loss='categorical_crossentropy',\n",
        "              metrics=['accuracy', tf.keras.metrics.CategoricalAccuracy(), \n",
        "                       tf.keras.metrics.Precision(),\n",
        "                       tf.keras.metrics.Recall(),\n",
        "                       tf.keras.metrics.MeanSquaredError(),\n",
        "                       tf.keras.metrics.CosineSimilarity(axis=1),\n",
        "                       tf.keras.metrics.CategoricalCrossentropy()\n",
        "                       ])"
      ],
      "execution_count": null,
      "outputs": []
    },
    {
      "cell_type": "code",
      "metadata": {
        "colab": {
          "base_uri": "https://localhost:8080/"
        },
        "id": "m8ZNiHB6SDr7",
        "outputId": "343addd1-0bb6-40ff-cfb9-657a7babc378"
      },
      "source": [
        "model.summary()"
      ],
      "execution_count": null,
      "outputs": [
        {
          "output_type": "stream",
          "text": [
            "Model: \"sequential\"\n",
            "_________________________________________________________________\n",
            "Layer (type)                 Output Shape              Param #   \n",
            "=================================================================\n",
            "conv2d (Conv2D)              (None, 32, 32, 32)        2432      \n",
            "_________________________________________________________________\n",
            "batch_normalization (BatchNo (None, 32, 32, 32)        128       \n",
            "_________________________________________________________________\n",
            "max_pooling2d (MaxPooling2D) (None, 16, 16, 32)        0         \n",
            "_________________________________________________________________\n",
            "conv2d_1 (Conv2D)            (None, 16, 16, 64)        51264     \n",
            "_________________________________________________________________\n",
            "batch_normalization_1 (Batch (None, 16, 16, 64)        256       \n",
            "_________________________________________________________________\n",
            "max_pooling2d_1 (MaxPooling2 (None, 8, 8, 64)          0         \n",
            "_________________________________________________________________\n",
            "dropout (Dropout)            (None, 8, 8, 64)          0         \n",
            "_________________________________________________________________\n",
            "flatten (Flatten)            (None, 4096)              0         \n",
            "_________________________________________________________________\n",
            "dense (Dense)                (None, 1000)              4097000   \n",
            "_________________________________________________________________\n",
            "dropout_1 (Dropout)          (None, 1000)              0         \n",
            "_________________________________________________________________\n",
            "dense_1 (Dense)              (None, 10)                10010     \n",
            "=================================================================\n",
            "Total params: 4,161,090\n",
            "Trainable params: 4,160,898\n",
            "Non-trainable params: 192\n",
            "_________________________________________________________________\n"
          ],
          "name": "stdout"
        }
      ]
    },
    {
      "cell_type": "code",
      "metadata": {
        "colab": {
          "base_uri": "https://localhost:8080/"
        },
        "id": "PzDLt6iCSLIL",
        "outputId": "4b2f9489-0825-4f44-ae25-4b71a0d8740c"
      },
      "source": [
        "# Fit model in order to make predictions\n",
        "start = time()\n",
        "history = model.fit_generator(datagen.flow(X_train, y_train, batch_size=128),\n",
        "                              epochs=30, validation_data=(X_val, y_val),\n",
        "                              callbacks=[early_stopping, model_checkpoint])\n",
        "end = time()\n",
        "end = end - start\n",
        "print('Time taken to train the data:{:.3f} seconds'.format(end))"
      ],
      "execution_count": null,
      "outputs": [
        {
          "output_type": "stream",
          "text": [
            "/usr/local/lib/python3.7/dist-packages/tensorflow/python/keras/engine/training.py:1844: UserWarning: `Model.fit_generator` is deprecated and will be removed in a future version. Please use `Model.fit`, which supports generators.\n",
            "  warnings.warn('`Model.fit_generator` is deprecated and '\n"
          ],
          "name": "stderr"
        },
        {
          "output_type": "stream",
          "text": [
            "Epoch 1/30\n",
            "487/487 [==============================] - 300s 613ms/step - loss: 2.0505 - accuracy: 0.4613 - categorical_accuracy: 0.4613 - precision: 0.6334 - recall: 0.3275 - mean_squared_error: 0.0693 - cosine_similarity: 0.5340 - categorical_crossentropy: 2.0505 - val_loss: 0.6328 - val_accuracy: 0.8104 - val_categorical_accuracy: 0.8104 - val_precision: 0.8764 - val_recall: 0.7631 - val_mean_squared_error: 0.0270 - val_cosine_similarity: 0.8346 - val_categorical_crossentropy: 0.6328\n",
            "Epoch 2/30\n",
            "487/487 [==============================] - 301s 618ms/step - loss: 0.6467 - accuracy: 0.7988 - categorical_accuracy: 0.7988 - precision: 0.8769 - recall: 0.7393 - mean_squared_error: 0.0282 - cosine_similarity: 0.8272 - categorical_crossentropy: 0.6467 - val_loss: 0.3868 - val_accuracy: 0.8846 - val_categorical_accuracy: 0.8846 - val_precision: 0.9332 - val_recall: 0.8512 - val_mean_squared_error: 0.0164 - val_cosine_similarity: 0.9014 - val_categorical_crossentropy: 0.3868\n",
            "Epoch 3/30\n",
            "487/487 [==============================] - 301s 617ms/step - loss: 0.5248 - accuracy: 0.8391 - categorical_accuracy: 0.8391 - precision: 0.9009 - recall: 0.7945 - mean_squared_error: 0.0229 - cosine_similarity: 0.8610 - categorical_crossentropy: 0.5248 - val_loss: 0.4195 - val_accuracy: 0.8805 - val_categorical_accuracy: 0.8805 - val_precision: 0.9398 - val_recall: 0.8237 - val_mean_squared_error: 0.0179 - val_cosine_similarity: 0.8934 - val_categorical_crossentropy: 0.4195\n",
            "Epoch 4/30\n",
            "487/487 [==============================] - 313s 643ms/step - loss: 0.4599 - accuracy: 0.8581 - categorical_accuracy: 0.8581 - precision: 0.9140 - recall: 0.8174 - mean_squared_error: 0.0201 - cosine_similarity: 0.8783 - categorical_crossentropy: 0.4599 - val_loss: 0.4089 - val_accuracy: 0.8862 - val_categorical_accuracy: 0.8862 - val_precision: 0.9554 - val_recall: 0.8139 - val_mean_squared_error: 0.0173 - val_cosine_similarity: 0.8976 - val_categorical_crossentropy: 0.4089\n",
            "Epoch 5/30\n",
            "487/487 [==============================] - 302s 620ms/step - loss: 0.4180 - accuracy: 0.8732 - categorical_accuracy: 0.8732 - precision: 0.9197 - recall: 0.8361 - mean_squared_error: 0.0182 - cosine_similarity: 0.8907 - categorical_crossentropy: 0.4180 - val_loss: 0.3765 - val_accuracy: 0.8962 - val_categorical_accuracy: 0.8962 - val_precision: 0.9625 - val_recall: 0.8309 - val_mean_squared_error: 0.0158 - val_cosine_similarity: 0.9057 - val_categorical_crossentropy: 0.3765\n",
            "Epoch 6/30\n",
            "487/487 [==============================] - 302s 620ms/step - loss: 0.3861 - accuracy: 0.8812 - categorical_accuracy: 0.8812 - precision: 0.9264 - recall: 0.8462 - mean_squared_error: 0.0169 - cosine_similarity: 0.8985 - categorical_crossentropy: 0.3861 - val_loss: 0.3434 - val_accuracy: 0.9110 - val_categorical_accuracy: 0.9110 - val_precision: 0.9687 - val_recall: 0.8428 - val_mean_squared_error: 0.0143 - val_cosine_similarity: 0.9163 - val_categorical_crossentropy: 0.3434\n",
            "Epoch 7/30\n",
            "487/487 [==============================] - 302s 620ms/step - loss: 0.3486 - accuracy: 0.8940 - categorical_accuracy: 0.8940 - precision: 0.9331 - recall: 0.8639 - mean_squared_error: 0.0153 - cosine_similarity: 0.9090 - categorical_crossentropy: 0.3486 - val_loss: 0.2766 - val_accuracy: 0.9230 - val_categorical_accuracy: 0.9230 - val_precision: 0.9598 - val_recall: 0.8931 - val_mean_squared_error: 0.0114 - val_cosine_similarity: 0.9326 - val_categorical_crossentropy: 0.2766\n",
            "Epoch 8/30\n",
            "487/487 [==============================] - 302s 620ms/step - loss: 0.3424 - accuracy: 0.8976 - categorical_accuracy: 0.8976 - precision: 0.9346 - recall: 0.8683 - mean_squared_error: 0.0149 - cosine_similarity: 0.9115 - categorical_crossentropy: 0.3424 - val_loss: 0.3455 - val_accuracy: 0.9034 - val_categorical_accuracy: 0.9034 - val_precision: 0.9551 - val_recall: 0.8521 - val_mean_squared_error: 0.0146 - val_cosine_similarity: 0.9139 - val_categorical_crossentropy: 0.3455\n",
            "Epoch 9/30\n",
            "487/487 [==============================] - 301s 618ms/step - loss: 0.3163 - accuracy: 0.9034 - categorical_accuracy: 0.9034 - precision: 0.9381 - recall: 0.8761 - mean_squared_error: 0.0140 - cosine_similarity: 0.9173 - categorical_crossentropy: 0.3163 - val_loss: 0.2540 - val_accuracy: 0.9308 - val_categorical_accuracy: 0.9308 - val_precision: 0.9564 - val_recall: 0.9090 - val_mean_squared_error: 0.0104 - val_cosine_similarity: 0.9390 - val_categorical_crossentropy: 0.2540\n",
            "Epoch 10/30\n",
            "487/487 [==============================] - 301s 618ms/step - loss: 0.2948 - accuracy: 0.9114 - categorical_accuracy: 0.9114 - precision: 0.9419 - recall: 0.8858 - mean_squared_error: 0.0131 - cosine_similarity: 0.9227 - categorical_crossentropy: 0.2948 - val_loss: 0.2528 - val_accuracy: 0.9291 - val_categorical_accuracy: 0.9291 - val_precision: 0.9651 - val_recall: 0.8976 - val_mean_squared_error: 0.0104 - val_cosine_similarity: 0.9388 - val_categorical_crossentropy: 0.2528\n",
            "Epoch 11/30\n",
            "487/487 [==============================] - 301s 619ms/step - loss: 0.2828 - accuracy: 0.9148 - categorical_accuracy: 0.9148 - precision: 0.9435 - recall: 0.8907 - mean_squared_error: 0.0126 - cosine_similarity: 0.9263 - categorical_crossentropy: 0.2828 - val_loss: 0.2557 - val_accuracy: 0.9325 - val_categorical_accuracy: 0.9325 - val_precision: 0.9625 - val_recall: 0.9063 - val_mean_squared_error: 0.0102 - val_cosine_similarity: 0.9397 - val_categorical_crossentropy: 0.2557\n",
            "Epoch 12/30\n",
            "487/487 [==============================] - 296s 607ms/step - loss: 0.2686 - accuracy: 0.9179 - categorical_accuracy: 0.9179 - precision: 0.9459 - recall: 0.8976 - mean_squared_error: 0.0119 - cosine_similarity: 0.9299 - categorical_crossentropy: 0.2686 - val_loss: 0.2481 - val_accuracy: 0.9308 - val_categorical_accuracy: 0.9308 - val_precision: 0.9573 - val_recall: 0.9106 - val_mean_squared_error: 0.0100 - val_cosine_similarity: 0.9408 - val_categorical_crossentropy: 0.2481\n",
            "Epoch 13/30\n",
            "487/487 [==============================] - 296s 609ms/step - loss: 0.2535 - accuracy: 0.9220 - categorical_accuracy: 0.9220 - precision: 0.9473 - recall: 0.9018 - mean_squared_error: 0.0114 - cosine_similarity: 0.9331 - categorical_crossentropy: 0.2535 - val_loss: 0.2440 - val_accuracy: 0.9348 - val_categorical_accuracy: 0.9348 - val_precision: 0.9574 - val_recall: 0.9180 - val_mean_squared_error: 0.0099 - val_cosine_similarity: 0.9424 - val_categorical_crossentropy: 0.2440\n",
            "Epoch 14/30\n",
            "487/487 [==============================] - 297s 609ms/step - loss: 0.2475 - accuracy: 0.9246 - categorical_accuracy: 0.9246 - precision: 0.9479 - recall: 0.9046 - mean_squared_error: 0.0111 - cosine_similarity: 0.9350 - categorical_crossentropy: 0.2475 - val_loss: 0.2316 - val_accuracy: 0.9359 - val_categorical_accuracy: 0.9359 - val_precision: 0.9568 - val_recall: 0.9219 - val_mean_squared_error: 0.0094 - val_cosine_similarity: 0.9448 - val_categorical_crossentropy: 0.2316\n",
            "Epoch 15/30\n",
            "487/487 [==============================] - 297s 610ms/step - loss: 0.2351 - accuracy: 0.9284 - categorical_accuracy: 0.9284 - precision: 0.9503 - recall: 0.9089 - mean_squared_error: 0.0106 - cosine_similarity: 0.9382 - categorical_crossentropy: 0.2351 - val_loss: 0.2724 - val_accuracy: 0.9238 - val_categorical_accuracy: 0.9238 - val_precision: 0.9608 - val_recall: 0.8923 - val_mean_squared_error: 0.0112 - val_cosine_similarity: 0.9337 - val_categorical_crossentropy: 0.2724\n",
            "Epoch 16/30\n",
            "487/487 [==============================] - 299s 613ms/step - loss: 0.2296 - accuracy: 0.9300 - categorical_accuracy: 0.9300 - precision: 0.9528 - recall: 0.9125 - mean_squared_error: 0.0103 - cosine_similarity: 0.9402 - categorical_crossentropy: 0.2296 - val_loss: 0.2509 - val_accuracy: 0.9354 - val_categorical_accuracy: 0.9354 - val_precision: 0.9710 - val_recall: 0.8972 - val_mean_squared_error: 0.0101 - val_cosine_similarity: 0.9412 - val_categorical_crossentropy: 0.2509\n",
            "Epoch 17/30\n",
            "487/487 [==============================] - 299s 613ms/step - loss: 0.2210 - accuracy: 0.9311 - categorical_accuracy: 0.9311 - precision: 0.9527 - recall: 0.9138 - mean_squared_error: 0.0100 - cosine_similarity: 0.9416 - categorical_crossentropy: 0.2210 - val_loss: 0.2395 - val_accuracy: 0.9375 - val_categorical_accuracy: 0.9375 - val_precision: 0.9683 - val_recall: 0.9058 - val_mean_squared_error: 0.0096 - val_cosine_similarity: 0.9441 - val_categorical_crossentropy: 0.2395\n",
            "Epoch 18/30\n",
            "487/487 [==============================] - 300s 617ms/step - loss: 0.2085 - accuracy: 0.9346 - categorical_accuracy: 0.9346 - precision: 0.9545 - recall: 0.9162 - mean_squared_error: 0.0096 - cosine_similarity: 0.9442 - categorical_crossentropy: 0.2085 - val_loss: 0.2509 - val_accuracy: 0.9339 - val_categorical_accuracy: 0.9339 - val_precision: 0.9585 - val_recall: 0.9161 - val_mean_squared_error: 0.0099 - val_cosine_similarity: 0.9416 - val_categorical_crossentropy: 0.2509\n",
            "Epoch 19/30\n",
            "487/487 [==============================] - 300s 615ms/step - loss: 0.2048 - accuracy: 0.9369 - categorical_accuracy: 0.9369 - precision: 0.9566 - recall: 0.9208 - mean_squared_error: 0.0093 - cosine_similarity: 0.9460 - categorical_crossentropy: 0.2048 - val_loss: 0.2276 - val_accuracy: 0.9416 - val_categorical_accuracy: 0.9416 - val_precision: 0.9638 - val_recall: 0.9199 - val_mean_squared_error: 0.0090 - val_cosine_similarity: 0.9475 - val_categorical_crossentropy: 0.2276\n",
            "Epoch 20/30\n",
            "487/487 [==============================] - 299s 614ms/step - loss: 0.1897 - accuracy: 0.9416 - categorical_accuracy: 0.9416 - precision: 0.9591 - recall: 0.9266 - mean_squared_error: 0.0087 - cosine_similarity: 0.9500 - categorical_crossentropy: 0.1897 - val_loss: 0.2438 - val_accuracy: 0.9358 - val_categorical_accuracy: 0.9358 - val_precision: 0.9695 - val_recall: 0.9045 - val_mean_squared_error: 0.0098 - val_cosine_similarity: 0.9433 - val_categorical_crossentropy: 0.2438\n",
            "Epoch 21/30\n",
            "487/487 [==============================] - 300s 616ms/step - loss: 0.1930 - accuracy: 0.9398 - categorical_accuracy: 0.9398 - precision: 0.9568 - recall: 0.9255 - mean_squared_error: 0.0089 - cosine_similarity: 0.9489 - categorical_crossentropy: 0.1930 - val_loss: 0.2416 - val_accuracy: 0.9377 - val_categorical_accuracy: 0.9377 - val_precision: 0.9548 - val_recall: 0.9234 - val_mean_squared_error: 0.0094 - val_cosine_similarity: 0.9452 - val_categorical_crossentropy: 0.2416\n",
            "Epoch 22/30\n",
            "487/487 [==============================] - 300s 615ms/step - loss: 0.1848 - accuracy: 0.9422 - categorical_accuracy: 0.9422 - precision: 0.9589 - recall: 0.9288 - mean_squared_error: 0.0085 - cosine_similarity: 0.9510 - categorical_crossentropy: 0.1848 - val_loss: 0.2369 - val_accuracy: 0.9367 - val_categorical_accuracy: 0.9367 - val_precision: 0.9610 - val_recall: 0.9182 - val_mean_squared_error: 0.0093 - val_cosine_similarity: 0.9451 - val_categorical_crossentropy: 0.2369\n",
            "Epoch 23/30\n",
            "487/487 [==============================] - 296s 608ms/step - loss: 0.1705 - accuracy: 0.9466 - categorical_accuracy: 0.9466 - precision: 0.9617 - recall: 0.9347 - mean_squared_error: 0.0079 - cosine_similarity: 0.9548 - categorical_crossentropy: 0.1705 - val_loss: 0.2327 - val_accuracy: 0.9383 - val_categorical_accuracy: 0.9383 - val_precision: 0.9624 - val_recall: 0.9189 - val_mean_squared_error: 0.0092 - val_cosine_similarity: 0.9457 - val_categorical_crossentropy: 0.2327\n",
            "Epoch 24/30\n",
            "487/487 [==============================] - 296s 607ms/step - loss: 0.1725 - accuracy: 0.9463 - categorical_accuracy: 0.9463 - precision: 0.9613 - recall: 0.9342 - mean_squared_error: 0.0080 - cosine_similarity: 0.9540 - categorical_crossentropy: 0.1725 - val_loss: 0.2370 - val_accuracy: 0.9413 - val_categorical_accuracy: 0.9413 - val_precision: 0.9541 - val_recall: 0.9314 - val_mean_squared_error: 0.0088 - val_cosine_similarity: 0.9489 - val_categorical_crossentropy: 0.2370\n",
            "Epoch 25/30\n",
            "487/487 [==============================] - 297s 609ms/step - loss: 0.1709 - accuracy: 0.9460 - categorical_accuracy: 0.9460 - precision: 0.9593 - recall: 0.9335 - mean_squared_error: 0.0080 - cosine_similarity: 0.9540 - categorical_crossentropy: 0.1709 - val_loss: 0.2337 - val_accuracy: 0.9384 - val_categorical_accuracy: 0.9384 - val_precision: 0.9594 - val_recall: 0.9229 - val_mean_squared_error: 0.0091 - val_cosine_similarity: 0.9465 - val_categorical_crossentropy: 0.2337\n",
            "Epoch 26/30\n",
            "487/487 [==============================] - 296s 608ms/step - loss: 0.1735 - accuracy: 0.9466 - categorical_accuracy: 0.9466 - precision: 0.9619 - recall: 0.9343 - mean_squared_error: 0.0080 - cosine_similarity: 0.9540 - categorical_crossentropy: 0.1735 - val_loss: 0.2230 - val_accuracy: 0.9428 - val_categorical_accuracy: 0.9428 - val_precision: 0.9624 - val_recall: 0.9294 - val_mean_squared_error: 0.0085 - val_cosine_similarity: 0.9503 - val_categorical_crossentropy: 0.2230\n",
            "Epoch 27/30\n",
            "487/487 [==============================] - 295s 605ms/step - loss: 0.1576 - accuracy: 0.9502 - categorical_accuracy: 0.9502 - precision: 0.9632 - recall: 0.9395 - mean_squared_error: 0.0074 - cosine_similarity: 0.9576 - categorical_crossentropy: 0.1576 - val_loss: 0.2413 - val_accuracy: 0.9391 - val_categorical_accuracy: 0.9391 - val_precision: 0.9576 - val_recall: 0.9277 - val_mean_squared_error: 0.0092 - val_cosine_similarity: 0.9467 - val_categorical_crossentropy: 0.2413\n",
            "Epoch 28/30\n",
            "487/487 [==============================] - 295s 605ms/step - loss: 0.1596 - accuracy: 0.9511 - categorical_accuracy: 0.9511 - precision: 0.9633 - recall: 0.9407 - mean_squared_error: 0.0074 - cosine_similarity: 0.9579 - categorical_crossentropy: 0.1596 - val_loss: 0.2315 - val_accuracy: 0.9423 - val_categorical_accuracy: 0.9423 - val_precision: 0.9577 - val_recall: 0.9322 - val_mean_squared_error: 0.0086 - val_cosine_similarity: 0.9499 - val_categorical_crossentropy: 0.2315\n",
            "Epoch 29/30\n",
            "487/487 [==============================] - 296s 608ms/step - loss: 0.1513 - accuracy: 0.9521 - categorical_accuracy: 0.9521 - precision: 0.9643 - recall: 0.9412 - mean_squared_error: 0.0072 - cosine_similarity: 0.9590 - categorical_crossentropy: 0.1513 - val_loss: 0.2235 - val_accuracy: 0.9425 - val_categorical_accuracy: 0.9425 - val_precision: 0.9611 - val_recall: 0.9287 - val_mean_squared_error: 0.0086 - val_cosine_similarity: 0.9500 - val_categorical_crossentropy: 0.2235\n",
            "Epoch 30/30\n",
            "487/487 [==============================] - 298s 611ms/step - loss: 0.1416 - accuracy: 0.9553 - categorical_accuracy: 0.9553 - precision: 0.9668 - recall: 0.9462 - mean_squared_error: 0.0066 - cosine_similarity: 0.9620 - categorical_crossentropy: 0.1416 - val_loss: 0.2322 - val_accuracy: 0.9377 - val_categorical_accuracy: 0.9377 - val_precision: 0.9608 - val_recall: 0.9200 - val_mean_squared_error: 0.0091 - val_cosine_similarity: 0.9469 - val_categorical_crossentropy: 0.2322\n",
            "Time taken to train the data:8979.947 seconds\n"
          ],
          "name": "stdout"
        }
      ]
    },
    {
      "cell_type": "code",
      "metadata": {
        "id": "TshgGAZzSP_a"
      },
      "source": [
        "# Evaluate train and validation accuracies and losses\n",
        "\n",
        "train_acc = history.history['accuracy']\n",
        "val_acc = history.history['val_accuracy']\n",
        "\n",
        "train_loss = history.history['loss']\n",
        "val_loss = history.history['val_loss']"
      ],
      "execution_count": null,
      "outputs": []
    },
    {
      "cell_type": "code",
      "metadata": {
        "colab": {
          "base_uri": "https://localhost:8080/",
          "height": 453
        },
        "id": "Fb4kTvwukz1U",
        "outputId": "682b56e4-eec3-4dfb-beca-f03c4c1a1650"
      },
      "source": [
        "# Visualize epochs vs. train and validation accuracies and losses\n",
        "\n",
        "plt.figure(figsize=(20, 10))\n",
        "\n",
        "plt.subplot(1, 2, 1)\n",
        "plt.plot(train_acc, label='Training Accuracy')\n",
        "plt.plot(val_acc, label='Validation Accuracy')\n",
        "plt.legend()\n",
        "plt.title('Epochs vs. Training and Validation Accuracy')\n",
        "    \n",
        "plt.subplot(1, 2, 2)\n",
        "plt.plot(train_loss, label='Training Loss')\n",
        "plt.plot(val_loss, label='Validation Loss')\n",
        "plt.legend()\n",
        "plt.title('Epochs vs. Training and Validation Loss')\n",
        "\n",
        "plt.show()"
      ],
      "execution_count": null,
      "outputs": [
        {
          "output_type": "display_data",
          "data": {
            "image/png": "[encoded data removed]",
            "text/plain": [
              "<Figure size 1440x720 with 2 Axes>"
            ]
          },
          "metadata": {
            "tags": [],
            "needs_background": "light"
          }
        }
      ]
    },
    {
      "cell_type": "code",
      "metadata": {
        "colab": {
          "base_uri": "https://localhost:8080/"
        },
        "id": "82kLXp-Gk2VG",
        "outputId": "8780e3ee-f250-4ef0-d9a1-0e912497d0c5"
      },
      "source": [
        "# Evaluate model on test data\n",
        "test_loss, test_acc, test_cat_acc, test_precision, test_recall, test_mse, test_cos_sim, test_cat_entropy = model.evaluate(x=test_images, y=test_labels, verbose=0)\n",
        "\n",
        "print('Test accuracy is: {:0.4f} \\nTest loss is: {:0.4f} \\nTest Categorical Accuracy is: {:0.4f} \\nTest Precision is: {:0.4f} \\nTest Recall is: {:0.4f} \\nTest Mean Squared Error is: {:0.4f} \\nTest Categorical Entopy is: {:0.4f}'.\n",
        "      format(test_acc, test_loss, test_cat_acc, test_precision, test_recall, test_mse, test_cos_sim, test_cat_entropy))"
      ],
      "execution_count": null,
      "outputs": [
        {
          "output_type": "stream",
          "text": [
            "Test accuracy is: 0.9345 \n",
            "Test loss is: 0.2486 \n",
            "Test Categorical Accuracy is: 0.9345 \n",
            "Test Precision is: 0.9575 \n",
            "Test Recall is: 0.9174 \n",
            "Test Mean Squared Error is: 0.0097 \n",
            "Test Categorical Entopy is: 0.9432\n"
          ],
          "name": "stdout"
        }
      ]
    },
    {
      "cell_type": "code",
      "metadata": {
        "id": "sKqOwu9nk4be"
      },
      "source": [
        "# Get predictions and apply inverse transformation to the labels (visualization and impacts)\n",
        "y_pred = model.predict(X_train)\n",
        "\n",
        "y_pred = lb.inverse_transform(y_pred, lb.classes_)\n",
        "y_train = lb.inverse_transform(y_train, lb.classes_)\n"
      ],
      "execution_count": null,
      "outputs": []
    },
    {
      "cell_type": "code",
      "metadata": {
        "colab": {
          "base_uri": "https://localhost:8080/",
          "height": 730
        },
        "id": "Gjj-xywck6ND",
        "outputId": "1a9bf334-7cb5-4852-8884-4ccbd74ae717"
      },
      "source": [
        "# Plot the confusion matrix\n",
        "\n",
        "matrix = confusion_matrix(y_train, y_pred, labels=lb.classes_)\n",
        "\n",
        "fig, ax = plt.subplots(figsize=(14, 12))\n",
        "sns.heatmap(matrix, annot=True, cmap='Greens', fmt='d', ax=ax)\n",
        "plt.title('Confusion Matrix for training dataset')\n",
        "plt.xlabel('Predicted label')\n",
        "plt.ylabel('True label')\n",
        "plt.show()"
      ],
      "execution_count": null,
      "outputs": [
        {
          "output_type": "display_data",
          "data": {
            "image/png": "[encoded data removed]",
            "text/plain": [
              "<Figure size 1008x864 with 2 Axes>"
            ]
          },
          "metadata": {
            "tags": [],
            "needs_background": "light"
          }
        }
      ]
    },
    {
      "cell_type": "code",
      "metadata": {
        "colab": {
          "base_uri": "https://localhost:8080/"
        },
        "id": "OhqFoK0-k9gh",
        "outputId": "7f1db61b-faa4-4b5e-ae5d-761c1eb93cf8"
      },
      "source": [
        "# Ignore the errors in the plots\n",
        "\n",
        "np.seterr(all='ignore')"
      ],
      "execution_count": null,
      "outputs": [
        {
          "output_type": "execute_result",
          "data": {
            "text/plain": [
              "{'divide': 'warn', 'invalid': 'warn', 'over': 'warn', 'under': 'ignore'}"
            ]
          },
          "metadata": {
            "tags": []
          },
          "execution_count": 59
        }
      ]
    },
    {
      "cell_type": "code",
      "metadata": {
        "id": "Pxs1sjm8k-Go"
      },
      "source": [
        "# Get convolutional layers\n",
        "\n",
        "layers = [model.get_layer('conv2d_1')\n",
        "         ]"
      ],
      "execution_count": null,
      "outputs": []
    },
    {
      "cell_type": "code",
      "metadata": {
        "id": "_m9EQGszk_pP"
      },
      "source": [
        "# Define a model which gives the outputs of the layers\n",
        "\n",
        "layer_outputs = [layer.output for layer in layers]\n",
        "activation_model = keras.models.Model(inputs=model.input, outputs=layer_outputs)"
      ],
      "execution_count": null,
      "outputs": []
    },
    {
      "cell_type": "code",
      "metadata": {
        "id": "jfe0AProlBIe"
      },
      "source": [
        "# Create a list with the names of the layers\n",
        "\n",
        "layer_names = []\n",
        "for layer in layers:\n",
        "    layer_names.append(layer.name)"
      ],
      "execution_count": null,
      "outputs": []
    },
    {
      "cell_type": "code",
      "metadata": {
        "id": "ZuNJ2Y91lDCH"
      },
      "source": [
        "# # Define a function which will plot the convolutional filters\n",
        "\n",
        "# def plot_convolutional_filters(img):\n",
        "    \n",
        "#     img = np.expand_dims(img, axis=0)\n",
        "#     activations = activation_model.predict(img)\n",
        "#     images_per_row = 9\n",
        "    \n",
        "#     for layer_name, layer_activation in zip(layer_names, activations): \n",
        "#         n_features = layer_activation.shape[-1]\n",
        "#         size = layer_activation.shape[1]\n",
        "#         n_cols = n_features // images_per_row\n",
        "#         display_grid = np.zeros((size * n_cols, images_per_row * size))\n",
        "#         for col in range(n_cols): \n",
        "#             for row in range(images_per_row):\n",
        "#                 channel_image = layer_activation[0,\n",
        "#                                                  :, :,\n",
        "#                                                  col * images_per_row + row]\n",
        "#                 channel_image -= channel_image.mean()\n",
        "#                 channel_image /= channel_image.std()\n",
        "#                 channel_image *= 64\n",
        "#                 channel_image += 128\n",
        "#                 channel_image = np.clip(channel_image, 0, 255).astype('uint8')\n",
        "#                 display_grid[col * size : (col + 1) * size,\n",
        "#                              row * size : (row + 1) * size] = channel_image\n",
        "#         scale = 1. / size\n",
        "#         plt.figure(figsize=(scale * display_grid.shape[1],\n",
        "#                             scale * display_grid.shape[0]))\n",
        "#         plt.title(layer_name)\n",
        "#         plt.grid(False)\n",
        "#         plt.imshow(display_grid, aspect='auto', cmap='plasma')\n",
        "\n",
        "# Define a function which will plot the convolutional filters\n",
        "\n",
        "def plot_convolutional_filters(img):\n",
        "    \n",
        "    img = np.expand_dims(img, axis=0)\n",
        "    activations = activation_model.predict(img)\n",
        "    images_per_row = 9\n",
        "    \n",
        "    for layer_name, layer_activation in zip(layer_names, activations): \n",
        "        n_features = layer_activation.shape[-1]\n",
        "        size = layer_activation.shape[1]\n",
        "        n_cols = n_features // images_per_row\n",
        "        display_grid = np.zeros((size * n_cols, images_per_row * size))\n",
        "        for col in range(n_cols): \n",
        "            for row in range(images_per_row):\n",
        "                channel_image = layer_activation[0,\n",
        "                                                 :, :,\n",
        "                                                 col * images_per_row + row]\n",
        "                channel_image -= channel_image.mean()\n",
        "                channel_image /= channel_image.std()\n",
        "                channel_image *= 64\n",
        "                channel_image += 128\n",
        "                channel_image = np.clip(channel_image, 0, 255).astype('uint8')\n",
        "                display_grid[col * size : (col + 1) * size,\n",
        "                             row * size : (row + 1) * size] = channel_image\n",
        "        scale = 1. / size\n",
        "        plt.figure(figsize=(scale * display_grid.shape[1],\n",
        "                            scale * display_grid.shape[0]))\n",
        "        plt.title(layer_name)\n",
        "        plt.grid(False)\n",
        "        plt.imshow(display_grid, aspect='auto', cmap='plasma')"
      ],
      "execution_count": null,
      "outputs": []
    },
    {
      "cell_type": "code",
      "metadata": {
        "colab": {
          "base_uri": "https://localhost:8080/",
          "height": 266
        },
        "id": "Hzdx-Tt_lGR1",
        "outputId": "70110ec4-fac6-4102-b53b-f4b68848ef61"
      },
      "source": [
        "img = X_train[13529]\n",
        "plt.imshow(img)\n",
        "plt.show()"
      ],
      "execution_count": null,
      "outputs": [
        {
          "output_type": "display_data",
          "data": {
            "image/png": "[encoded data removed]",
            "text/plain": [
              "<Figure size 432x288 with 1 Axes>"
            ]
          },
          "metadata": {
            "tags": [],
            "needs_background": "light"
          }
        }
      ]
    },
    {
      "cell_type": "code",
      "metadata": {
        "colab": {
          "base_uri": "https://localhost:8080/",
          "height": 283
        },
        "id": "SZLkWbyUlIcI",
        "outputId": "7389c5b9-3ae0-4396-d9ff-10828ddffce4"
      },
      "source": [
        "plot_convolutional_filters(img)"
      ],
      "execution_count": null,
      "outputs": [
        {
          "output_type": "error",
          "ename": "IndexError",
          "evalue": "ignored",
          "traceback": [
            "\u001b[0;31m---------------------------------------------------------------------------\u001b[0m",
            "\u001b[0;31mIndexError\u001b[0m                                Traceback (most recent call last)",
            "\u001b[0;32m<ipython-input-68-e497f27313a1>\u001b[0m in \u001b[0;36m<module>\u001b[0;34m()\u001b[0m\n\u001b[0;32m----> 1\u001b[0;31m \u001b[0mplot_convolutional_filters\u001b[0m\u001b[0;34m(\u001b[0m\u001b[0mimg\u001b[0m\u001b[0;34m)\u001b[0m\u001b[0;34m\u001b[0m\u001b[0;34m\u001b[0m\u001b[0m\n\u001b[0m",
            "\u001b[0;32m<ipython-input-66-5d75c537cfa7>\u001b[0m in \u001b[0;36mplot_convolutional_filters\u001b[0;34m(img)\u001b[0m\n\u001b[1;32m     48\u001b[0m                 channel_image = layer_activation[0,\n\u001b[1;32m     49\u001b[0m                                                  \u001b[0;34m:\u001b[0m\u001b[0;34m,\u001b[0m \u001b[0;34m:\u001b[0m\u001b[0;34m,\u001b[0m\u001b[0;34m\u001b[0m\u001b[0;34m\u001b[0m\u001b[0m\n\u001b[0;32m---> 50\u001b[0;31m                                                  col * images_per_row + row]\n\u001b[0m\u001b[1;32m     51\u001b[0m                 \u001b[0mchannel_image\u001b[0m \u001b[0;34m-=\u001b[0m \u001b[0mchannel_image\u001b[0m\u001b[0;34m.\u001b[0m\u001b[0mmean\u001b[0m\u001b[0;34m(\u001b[0m\u001b[0;34m)\u001b[0m\u001b[0;34m\u001b[0m\u001b[0;34m\u001b[0m\u001b[0m\n\u001b[1;32m     52\u001b[0m                 \u001b[0mchannel_image\u001b[0m \u001b[0;34m/=\u001b[0m \u001b[0mchannel_image\u001b[0m\u001b[0;34m.\u001b[0m\u001b[0mstd\u001b[0m\u001b[0;34m(\u001b[0m\u001b[0;34m)\u001b[0m\u001b[0;34m\u001b[0m\u001b[0;34m\u001b[0m\u001b[0m\n",
            "\u001b[0;31mIndexError\u001b[0m: too many indices for array: array is 3-dimensional, but 4 were indexed"
          ]
        }
      ]
    }
  ]
}