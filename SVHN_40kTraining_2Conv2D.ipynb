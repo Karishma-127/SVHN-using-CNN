{
  "nbformat": 4,
  "nbformat_minor": 0,
  "metadata": {
    "kernelspec": {
      "display_name": "Python 3",
      "language": "python",
      "name": "python3"
    },
    "language_info": {
      "codemirror_mode": {
        "name": "ipython",
        "version": 3
      },
      "file_extension": ".py",
      "mimetype": "text/x-python",
      "name": "python",
      "nbconvert_exporter": "python",
      "pygments_lexer": "ipython3",
      "version": "3.8.3"
    },
    "colab": {
      "name": "SVHN_40kTraining_2Conv2D.ipynb",
      "provenance": [],
      "collapsed_sections": []
    }
  },
  "cells": [
    {
      "cell_type": "code",
      "metadata": {
        "id": "Ie5vtVMtywwr"
      },
      "source": [
        "import numpy as np\n",
        "import keras\n",
        "import seaborn as sns\n",
        "from matplotlib import pyplot as plt\n",
        "from scipy.io import loadmat\n",
        "from sklearn.model_selection import train_test_split\n",
        "from sklearn.preprocessing import LabelBinarizer\n",
        "from sklearn.metrics import confusion_matrix\n",
        "from keras.preprocessing.image import ImageDataGenerator\n",
        "from time import time\n",
        "%matplotlib inline"
      ],
      "execution_count": null,
      "outputs": []
    },
    {
      "cell_type": "code",
      "metadata": {
        "id": "_L8GeU0bywwy"
      },
      "source": [
        "# Set random state\n",
        "\n",
        "np.random.seed(20)"
      ],
      "execution_count": null,
      "outputs": []
    },
    {
      "cell_type": "code",
      "metadata": {
        "id": "_LLrr9A5ywwz"
      },
      "source": [
        "# Load the data\n",
        "train_raw = loadmat('/content/sample_data/train_32x32.mat')\n",
        "test_raw = loadmat('/content/sample_data/test_32x32.mat')"
      ],
      "execution_count": null,
      "outputs": []
    },
    {
      "cell_type": "code",
      "metadata": {
        "id": "xI9KjBq8yww0"
      },
      "source": [
        "# Load images and labels\n",
        "\n",
        "train_images = np.array(train_raw['X'])\n",
        "test_images = np.array(test_raw['X'])\n",
        "\n",
        "train_labels = train_raw['y']\n",
        "test_labels = test_raw['y']"
      ],
      "execution_count": null,
      "outputs": []
    },
    {
      "cell_type": "code",
      "metadata": {
        "colab": {
          "base_uri": "https://localhost:8080/"
        },
        "id": "mPcv7-e9yww0",
        "outputId": "5bd663a7-fe60-4499-c262-17bfe21e2eb6"
      },
      "source": [
        "train_images = np.moveaxis(train_images, -1, 0)\n",
        "test_images = np.moveaxis(test_images, -1, 0)\n",
        "\n",
        "print(train_images.shape)\n",
        "print(test_images.shape)"
      ],
      "execution_count": null,
      "outputs": [
        {
          "output_type": "stream",
          "text": [
            "(73257, 32, 32, 3)\n",
            "(26032, 32, 32, 3)\n"
          ],
          "name": "stdout"
        }
      ]
    },
    {
      "cell_type": "code",
      "metadata": {
        "colab": {
          "base_uri": "https://localhost:8080/",
          "height": 283
        },
        "id": "f56U8uxcyww1",
        "outputId": "8c4d488d-4612-4f1e-a79d-59fe5ced1047"
      },
      "source": [
        "# Plot a random image and its label\n",
        "\n",
        "plt.imshow(train_images[13000])\n",
        "plt.show()\n",
        "\n",
        "print('Label: ', train_labels[13000])"
      ],
      "execution_count": null,
      "outputs": [
        {
          "output_type": "display_data",
          "data": {
            "image/png": "[encoded data removed]",
            "text/plain": [
              "<Figure size 432x288 with 1 Axes>"
            ]
          },
          "metadata": {
            "tags": [],
            "needs_background": "light"
          }
        },
        {
          "output_type": "stream",
          "text": [
            "Label:  [4]\n"
          ],
          "name": "stdout"
        }
      ]
    },
    {
      "cell_type": "code",
      "metadata": {
        "id": "z4oER279yww1"
      },
      "source": [
        "# Convert train and test images into 'float64' type\n",
        "\n",
        "train_images = train_images.astype('float64')\n",
        "test_images = test_images.astype('float64')"
      ],
      "execution_count": null,
      "outputs": []
    },
    {
      "cell_type": "code",
      "metadata": {
        "id": "wzc161m6yww1"
      },
      "source": [
        "# Convert train and test labels into 'int64' type\n",
        "\n",
        "train_labels = train_labels.astype('int64')\n",
        "test_labels = test_labels.astype('int64')"
      ],
      "execution_count": null,
      "outputs": []
    },
    {
      "cell_type": "code",
      "metadata": {
        "colab": {
          "base_uri": "https://localhost:8080/"
        },
        "id": "7tWKuEfcyww2",
        "outputId": "96ae2751-7ebd-47f5-f982-093c0e5edda8"
      },
      "source": [
        "# Normalize the images data\n",
        "\n",
        "print('Min: {}, Max: {}'.format(train_images.min(), train_images.max()))\n",
        "\n",
        "train_images /= 255.0\n",
        "test_images /= 255.0"
      ],
      "execution_count": null,
      "outputs": [
        {
          "output_type": "stream",
          "text": [
            "Min: 0.0, Max: 255.0\n"
          ],
          "name": "stdout"
        }
      ]
    },
    {
      "cell_type": "code",
      "metadata": {
        "id": "4H5Cyjekyww2"
      },
      "source": [
        "# One-hot encoding of train and test labels\n",
        "\n",
        "lb = LabelBinarizer()\n",
        "train_labels = lb.fit_transform(train_labels)\n",
        "test_labels = lb.fit_transform(test_labels)"
      ],
      "execution_count": null,
      "outputs": []
    },
    {
      "cell_type": "code",
      "metadata": {
        "id": "JPVifPXfyww3"
      },
      "source": [
        "# Split train data into train and validation sets\n",
        "\n",
        "X_train, X_val, y_train, y_val = train_test_split(train_images, train_labels,\n",
        "                                                  test_size=0.15, random_state=22)"
      ],
      "execution_count": null,
      "outputs": []
    },
    {
      "cell_type": "code",
      "metadata": {
        "id": "ldW-Ifcoyww3"
      },
      "source": [
        "X_train = X_train[:40000,:,:,:]\n",
        "y_train = y_train[:40000]\n",
        "\n",
        "X_val = X_val[:10000,:,:,:]\n",
        "y_val = y_val[:10000]"
      ],
      "execution_count": null,
      "outputs": []
    },
    {
      "cell_type": "code",
      "metadata": {
        "colab": {
          "base_uri": "https://localhost:8080/"
        },
        "id": "m9q12PkTyww3",
        "outputId": "09f5660f-47b7-47e3-c8b3-2a0e14196480"
      },
      "source": [
        "y_val.shape"
      ],
      "execution_count": null,
      "outputs": [
        {
          "output_type": "execute_result",
          "data": {
            "text/plain": [
              "(10000, 10)"
            ]
          },
          "metadata": {
            "tags": []
          },
          "execution_count": 17
        }
      ]
    },
    {
      "cell_type": "code",
      "metadata": {
        "id": "m-J0BOrVyww4"
      },
      "source": [
        "# Data augmentation (CNN Layer)\n",
        "\n",
        "datagen = ImageDataGenerator(rotation_range=8,\n",
        "                             zoom_range=[0.95, 1.05],\n",
        "                             height_shift_range=0.10,\n",
        "                             shear_range=0.15)"
      ],
      "execution_count": null,
      "outputs": []
    },
    {
      "cell_type": "code",
      "metadata": {
        "id": "UMpVoiXfyww6"
      },
      "source": [
        "# Define actual model\n",
        "\n",
        "\n",
        "keras.backend.clear_session()\n",
        "\n",
        "model = keras.Sequential([\n",
        "    keras.layers.Conv2D(32, (5, 5), padding='same', \n",
        "                           activation='relu',\n",
        "                           input_shape=(32, 32, 3)),\n",
        "                          \n",
        "    keras.layers.BatchNormalization(),\n",
        "    keras.layers.MaxPooling2D((2, 2)), \n",
        "\n",
        "    keras.layers.Conv2D(64, (5, 5), padding='same', \n",
        "                        activation='relu'),\n",
        "     \n",
        "    keras.layers.BatchNormalization(),\n",
        "    keras.layers.MaxPooling2D((2, 2)),    \n",
        "    keras.layers.Dropout(0.3),\n",
        "    \n",
        "    keras.layers.Flatten(),\n",
        "    keras.layers.Dense(1000, activation='relu'),\n",
        "    keras.layers.Dropout(0.4),    \n",
        "    keras.layers.Dense(10,  activation='softmax')\n",
        "])\n",
        "\n",
        "early_stopping = keras.callbacks.EarlyStopping(patience=8)\n",
        "optimizer = keras.optimizers.Adam(lr=1e-3, amsgrad=True)\n",
        "model_checkpoint = keras.callbacks.ModelCheckpoint(\n",
        "                   '/content/sample_data/best_cnn.h5', \n",
        "                   save_best_only=True)\n",
        "model.compile(optimizer=optimizer,\n",
        "              loss='categorical_crossentropy',\n",
        "              metrics=['accuracy'])"
      ],
      "execution_count": null,
      "outputs": []
    },
    {
      "cell_type": "code",
      "metadata": {
        "colab": {
          "base_uri": "https://localhost:8080/"
        },
        "id": "j3Q7XBqByww8",
        "outputId": "8de71e5a-9cf8-4c25-f164-086f7ae01e64"
      },
      "source": [
        "model.summary()"
      ],
      "execution_count": null,
      "outputs": [
        {
          "output_type": "stream",
          "text": [
            "Model: \"sequential\"\n",
            "_________________________________________________________________\n",
            "Layer (type)                 Output Shape              Param #   \n",
            "=================================================================\n",
            "conv2d (Conv2D)              (None, 32, 32, 32)        2432      \n",
            "_________________________________________________________________\n",
            "batch_normalization (BatchNo (None, 32, 32, 32)        128       \n",
            "_________________________________________________________________\n",
            "max_pooling2d (MaxPooling2D) (None, 16, 16, 32)        0         \n",
            "_________________________________________________________________\n",
            "conv2d_1 (Conv2D)            (None, 16, 16, 64)        51264     \n",
            "_________________________________________________________________\n",
            "batch_normalization_1 (Batch (None, 16, 16, 64)        256       \n",
            "_________________________________________________________________\n",
            "max_pooling2d_1 (MaxPooling2 (None, 8, 8, 64)          0         \n",
            "_________________________________________________________________\n",
            "dropout (Dropout)            (None, 8, 8, 64)          0         \n",
            "_________________________________________________________________\n",
            "flatten (Flatten)            (None, 4096)              0         \n",
            "_________________________________________________________________\n",
            "dense (Dense)                (None, 1000)              4097000   \n",
            "_________________________________________________________________\n",
            "dropout_1 (Dropout)          (None, 1000)              0         \n",
            "_________________________________________________________________\n",
            "dense_1 (Dense)              (None, 10)                10010     \n",
            "=================================================================\n",
            "Total params: 4,161,090\n",
            "Trainable params: 4,160,898\n",
            "Non-trainable params: 192\n",
            "_________________________________________________________________\n"
          ],
          "name": "stdout"
        }
      ]
    },
    {
      "cell_type": "code",
      "metadata": {
        "colab": {
          "base_uri": "https://localhost:8080/"
        },
        "id": "iYUZH7vayww8",
        "outputId": "7d250c35-e6fd-40b7-c7f3-93b47f761bce"
      },
      "source": [
        "# Fit model in order to make predictions\n",
        "start = time()\n",
        "history = model.fit_generator(datagen.flow(X_train, y_train, batch_size=128),\n",
        "                              epochs=30, validation_data=(X_val, y_val),\n",
        "                              callbacks=[early_stopping, model_checkpoint])\n",
        "end = time()\n",
        "end = end - start\n",
        "print('Time taken to train the data:{:.3f} seconds'.format(end))"
      ],
      "execution_count": null,
      "outputs": [
        {
          "output_type": "stream",
          "text": [
            "/usr/local/lib/python3.7/dist-packages/tensorflow/python/keras/engine/training.py:1844: UserWarning: `Model.fit_generator` is deprecated and will be removed in a future version. Please use `Model.fit`, which supports generators.\n",
            "  warnings.warn('`Model.fit_generator` is deprecated and '\n"
          ],
          "name": "stderr"
        },
        {
          "output_type": "stream",
          "text": [
            "Epoch 1/30\n",
            "313/313 [==============================] - 213s 678ms/step - loss: 2.5569 - accuracy: 0.3864 - val_loss: 1.8754 - val_accuracy: 0.5288\n",
            "Epoch 2/30\n",
            "313/313 [==============================] - 209s 669ms/step - loss: 0.7473 - accuracy: 0.7624 - val_loss: 0.4463 - val_accuracy: 0.8721\n",
            "Epoch 3/30\n",
            "313/313 [==============================] - 204s 652ms/step - loss: 0.6026 - accuracy: 0.8115 - val_loss: 0.3859 - val_accuracy: 0.8910\n",
            "Epoch 4/30\n",
            "313/313 [==============================] - 203s 648ms/step - loss: 0.5215 - accuracy: 0.8360 - val_loss: 0.3625 - val_accuracy: 0.8947\n",
            "Epoch 5/30\n",
            "313/313 [==============================] - 203s 647ms/step - loss: 0.4715 - accuracy: 0.8549 - val_loss: 0.3653 - val_accuracy: 0.8914\n",
            "Epoch 6/30\n",
            "313/313 [==============================] - 202s 646ms/step - loss: 0.4308 - accuracy: 0.8663 - val_loss: 0.3595 - val_accuracy: 0.8994\n",
            "Epoch 7/30\n",
            "313/313 [==============================] - 201s 642ms/step - loss: 0.4052 - accuracy: 0.8756 - val_loss: 0.3234 - val_accuracy: 0.9087\n",
            "Epoch 8/30\n",
            "313/313 [==============================] - 201s 643ms/step - loss: 0.3746 - accuracy: 0.8827 - val_loss: 0.3015 - val_accuracy: 0.9121\n",
            "Epoch 9/30\n",
            "313/313 [==============================] - 204s 651ms/step - loss: 0.3617 - accuracy: 0.8894 - val_loss: 0.2855 - val_accuracy: 0.9189\n",
            "Epoch 10/30\n",
            "313/313 [==============================] - 203s 649ms/step - loss: 0.3356 - accuracy: 0.8982 - val_loss: 0.3146 - val_accuracy: 0.9124\n",
            "Epoch 11/30\n",
            "313/313 [==============================] - 203s 650ms/step - loss: 0.3231 - accuracy: 0.9026 - val_loss: 0.2946 - val_accuracy: 0.9172\n",
            "Epoch 12/30\n",
            "313/313 [==============================] - 205s 653ms/step - loss: 0.2988 - accuracy: 0.9078 - val_loss: 0.2867 - val_accuracy: 0.9179\n",
            "Epoch 13/30\n",
            "313/313 [==============================] - 203s 648ms/step - loss: 0.2933 - accuracy: 0.9092 - val_loss: 0.3210 - val_accuracy: 0.9086\n",
            "Epoch 14/30\n",
            "313/313 [==============================] - 204s 653ms/step - loss: 0.2668 - accuracy: 0.9160 - val_loss: 0.3356 - val_accuracy: 0.9048\n",
            "Epoch 15/30\n",
            "313/313 [==============================] - 202s 645ms/step - loss: 0.2594 - accuracy: 0.9183 - val_loss: 0.2828 - val_accuracy: 0.9225\n",
            "Epoch 16/30\n",
            "313/313 [==============================] - 201s 641ms/step - loss: 0.2451 - accuracy: 0.9223 - val_loss: 0.2693 - val_accuracy: 0.9254\n",
            "Epoch 17/30\n",
            "313/313 [==============================] - 202s 645ms/step - loss: 0.2351 - accuracy: 0.9279 - val_loss: 0.2681 - val_accuracy: 0.9242\n",
            "Epoch 18/30\n",
            "313/313 [==============================] - 201s 643ms/step - loss: 0.2237 - accuracy: 0.9288 - val_loss: 0.2698 - val_accuracy: 0.9281\n",
            "Epoch 19/30\n",
            "313/313 [==============================] - 202s 644ms/step - loss: 0.2169 - accuracy: 0.9325 - val_loss: 0.2822 - val_accuracy: 0.9216\n",
            "Epoch 20/30\n",
            "313/313 [==============================] - 203s 647ms/step - loss: 0.2090 - accuracy: 0.9334 - val_loss: 0.2644 - val_accuracy: 0.9305\n",
            "Epoch 21/30\n",
            "313/313 [==============================] - 202s 644ms/step - loss: 0.1991 - accuracy: 0.9371 - val_loss: 0.2782 - val_accuracy: 0.9251\n",
            "Epoch 22/30\n",
            "313/313 [==============================] - 201s 644ms/step - loss: 0.2014 - accuracy: 0.9338 - val_loss: 0.2647 - val_accuracy: 0.9282\n",
            "Epoch 23/30\n",
            "313/313 [==============================] - 201s 643ms/step - loss: 0.1904 - accuracy: 0.9410 - val_loss: 0.2799 - val_accuracy: 0.9269\n",
            "Epoch 24/30\n",
            "313/313 [==============================] - 203s 650ms/step - loss: 0.1847 - accuracy: 0.9438 - val_loss: 0.3053 - val_accuracy: 0.9165\n",
            "Epoch 25/30\n",
            "313/313 [==============================] - 202s 645ms/step - loss: 0.1786 - accuracy: 0.9437 - val_loss: 0.2890 - val_accuracy: 0.9241\n",
            "Epoch 26/30\n",
            "313/313 [==============================] - 202s 644ms/step - loss: 0.1720 - accuracy: 0.9462 - val_loss: 0.2649 - val_accuracy: 0.9302\n",
            "Epoch 27/30\n",
            "313/313 [==============================] - 202s 647ms/step - loss: 0.1645 - accuracy: 0.9488 - val_loss: 0.3069 - val_accuracy: 0.9246\n",
            "Epoch 28/30\n",
            "313/313 [==============================] - 203s 647ms/step - loss: 0.1600 - accuracy: 0.9497 - val_loss: 0.2657 - val_accuracy: 0.9299\n",
            "Time taken to train the data:5686.948 seconds\n"
          ],
          "name": "stdout"
        }
      ]
    },
    {
      "cell_type": "code",
      "metadata": {
        "id": "bBcbl97eyww8"
      },
      "source": [
        "# Evaluate train and validation accuracies and losses\n",
        "\n",
        "train_acc = history.history['accuracy']\n",
        "val_acc = history.history['val_accuracy']\n",
        "\n",
        "train_loss = history.history['loss']\n",
        "val_loss = history.history['val_loss']"
      ],
      "execution_count": null,
      "outputs": []
    },
    {
      "cell_type": "code",
      "metadata": {
        "colab": {
          "base_uri": "https://localhost:8080/",
          "height": 456
        },
        "id": "wnfHe-2_yww9",
        "outputId": "29afa4b6-8642-411f-a5f5-077690778bea"
      },
      "source": [
        "# Visualize epochs vs. train and validation accuracies and losses\n",
        "\n",
        "plt.figure(figsize=(20, 10))\n",
        "\n",
        "plt.subplot(1, 2, 1)\n",
        "plt.plot(train_acc, label='Training Accuracy')\n",
        "plt.plot(val_acc, label='Validation Accuracy')\n",
        "plt.legend()\n",
        "plt.title('Epochs vs. Training and Validation Accuracy')\n",
        "    \n",
        "plt.subplot(1, 2, 2)\n",
        "plt.plot(train_loss, label='Training Loss')\n",
        "plt.plot(val_loss, label='Validation Loss')\n",
        "plt.legend()\n",
        "plt.title('Epochs vs. Training and Validation Loss')\n",
        "\n",
        "plt.show()"
      ],
      "execution_count": null,
      "outputs": [
        {
          "output_type": "display_data",
          "data": {
            "image/png": "[encoded data removed]",
            "text/plain": [
              "<Figure size 1440x720 with 2 Axes>"
            ]
          },
          "metadata": {
            "tags": [],
            "needs_background": "light"
          }
        }
      ]
    },
    {
      "cell_type": "code",
      "metadata": {
        "colab": {
          "base_uri": "https://localhost:8080/"
        },
        "id": "58BdDufAyww9",
        "outputId": "c43276ea-b6d6-4782-e320-635e77a2a3dd"
      },
      "source": [
        "# Evaluate model on test data\n",
        "test_loss, test_acc = model.evaluate(x=test_images, y=test_labels, verbose=0)\n",
        "\n",
        "print('Test accuracy is: {:0.4f} \\nTest loss is: {:0.4f}'.\n",
        "      format(test_acc, test_loss))"
      ],
      "execution_count": null,
      "outputs": [
        {
          "output_type": "stream",
          "text": [
            "Test accuracy is: 0.9231 \n",
            "Test loss is: 0.2953\n"
          ],
          "name": "stdout"
        }
      ]
    },
    {
      "cell_type": "code",
      "metadata": {
        "id": "OvkX7QOEyww9"
      },
      "source": [
        "# Get predictions and apply inverse transformation to the labels (visualization and impacts)\n",
        "y_pred = model.predict(X_train)\n",
        "\n",
        "y_pred = lb.inverse_transform(y_pred, lb.classes_)\n",
        "y_train = lb.inverse_transform(y_train, lb.classes_)\n"
      ],
      "execution_count": null,
      "outputs": []
    },
    {
      "cell_type": "code",
      "metadata": {
        "colab": {
          "base_uri": "https://localhost:8080/",
          "height": 730
        },
        "id": "7vM_PSUAyww9",
        "outputId": "6df20f5e-1976-4315-9d76-e416921ccf65"
      },
      "source": [
        "# Plot the confusion matrix\n",
        "\n",
        "matrix = confusion_matrix(y_train, y_pred, labels=lb.classes_)\n",
        "\n",
        "fig, ax = plt.subplots(figsize=(14, 12))\n",
        "sns.heatmap(matrix, annot=True, cmap='Greens', fmt='d', ax=ax)\n",
        "plt.title('Confusion Matrix for training dataset')\n",
        "plt.xlabel('Predicted label')\n",
        "plt.ylabel('True label')\n",
        "plt.show()"
      ],
      "execution_count": null,
      "outputs": [
        {
          "output_type": "display_data",
          "data": {
            "image/png": "[encoded data removed]",
            "text/plain": [
              "<Figure size 1008x864 with 2 Axes>"
            ]
          },
          "metadata": {
            "tags": [],
            "needs_background": "light"
          }
        }
      ]
    },
    {
      "cell_type": "code",
      "metadata": {
        "colab": {
          "base_uri": "https://localhost:8080/"
        },
        "id": "wITpje3Myww-",
        "outputId": "02aed8bf-f932-43a1-b51d-48c37d922940"
      },
      "source": [
        "# Ignore the errors in the plots\n",
        "\n",
        "np.seterr(all='ignore')"
      ],
      "execution_count": null,
      "outputs": [
        {
          "output_type": "execute_result",
          "data": {
            "text/plain": [
              "{'divide': 'warn', 'invalid': 'warn', 'over': 'warn', 'under': 'ignore'}"
            ]
          },
          "metadata": {
            "tags": []
          },
          "execution_count": 27
        }
      ]
    },
    {
      "cell_type": "code",
      "metadata": {
        "id": "Ud8iPFLYyww-"
      },
      "source": [
        "# Get convolutional layers\n",
        "\n",
        "layers = [model.get_layer('conv2d_1')\n",
        "         ]"
      ],
      "execution_count": null,
      "outputs": []
    },
    {
      "cell_type": "code",
      "metadata": {
        "id": "IUJORafWyww_"
      },
      "source": [
        "# Define a model which gives the outputs of the layers\n",
        "\n",
        "layer_outputs = [layer.output for layer in layers]\n",
        "activation_model = keras.models.Model(inputs=model.input, outputs=layer_outputs)"
      ],
      "execution_count": null,
      "outputs": []
    },
    {
      "cell_type": "code",
      "metadata": {
        "id": "BuoerNa5yww_"
      },
      "source": [
        "# Create a list with the names of the layers\n",
        "\n",
        "layer_names = []\n",
        "for layer in layers:\n",
        "    layer_names.append(layer.name)"
      ],
      "execution_count": null,
      "outputs": []
    },
    {
      "cell_type": "code",
      "metadata": {
        "id": "KbQYLmKUyww_"
      },
      "source": [
        "# Define a function which will plot the convolutional filters\n",
        "\n",
        "def plot_convolutional_filters(img):\n",
        "    \n",
        "    img = np.expand_dims(img, axis=0)\n",
        "    activations = activation_model.predict(img)\n",
        "    images_per_row = 9\n",
        "    \n",
        "    for layer_name, layer_activation in zip(layer_names, activations): \n",
        "        n_features = layer_activation.shape[-1]\n",
        "        size = layer_activation.shape[1]\n",
        "        n_cols = n_features // images_per_row\n",
        "        display_grid = np.zeros((size * n_cols, images_per_row * size))\n",
        "        for col in range(n_cols): \n",
        "            for row in range(images_per_row):\n",
        "                channel_image = layer_activation[0,\n",
        "                                                 :, :,\n",
        "                                                 col * images_per_row + row]\n",
        "                channel_image -= channel_image.mean()\n",
        "                channel_image /= channel_image.std()\n",
        "                channel_image *= 64\n",
        "                channel_image += 128\n",
        "                channel_image = np.clip(channel_image, 0, 255).astype('uint8')\n",
        "                display_grid[col * size : (col + 1) * size,\n",
        "                             row * size : (row + 1) * size] = channel_image\n",
        "        scale = 1. / size\n",
        "        plt.figure(figsize=(scale * display_grid.shape[1],\n",
        "                            scale * display_grid.shape[0]))\n",
        "        plt.title(layer_name)\n",
        "        plt.grid(False)\n",
        "        plt.imshow(display_grid, aspect='auto', cmap='plasma')"
      ],
      "execution_count": null,
      "outputs": []
    },
    {
      "cell_type": "code",
      "metadata": {
        "colab": {
          "base_uri": "https://localhost:8080/",
          "height": 266
        },
        "id": "qQRQ7wSnywxA",
        "outputId": "0c15dee2-d474-4130-9974-4f7f4c3516c9"
      },
      "source": [
        "img = X_train[13529]\n",
        "plt.imshow(img)\n",
        "plt.show()"
      ],
      "execution_count": null,
      "outputs": [
        {
          "output_type": "display_data",
          "data": {
            "image/png": "[encoded data removed]",
            "text/plain": [
              "<Figure size 432x288 with 1 Axes>"
            ]
          },
          "metadata": {
            "tags": [],
            "needs_background": "light"
          }
        }
      ]
    },
    {
      "cell_type": "code",
      "metadata": {
        "colab": {
          "base_uri": "https://localhost:8080/",
          "height": 283
        },
        "id": "Xyi1hOGFywxA",
        "outputId": "f47b3ceb-4fcb-4c7d-f043-e2fdb8517066"
      },
      "source": [
        "plot_convolutional_filters(img)"
      ],
      "execution_count": null,
      "outputs": [
        {
          "output_type": "error",
          "ename": "IndexError",
          "evalue": "ignored",
          "traceback": [
            "\u001b[0;31m---------------------------------------------------------------------------\u001b[0m",
            "\u001b[0;31mIndexError\u001b[0m                                Traceback (most recent call last)",
            "\u001b[0;32m<ipython-input-41-e497f27313a1>\u001b[0m in \u001b[0;36m<module>\u001b[0;34m()\u001b[0m\n\u001b[0;32m----> 1\u001b[0;31m \u001b[0mplot_convolutional_filters\u001b[0m\u001b[0;34m(\u001b[0m\u001b[0mimg\u001b[0m\u001b[0;34m)\u001b[0m\u001b[0;34m\u001b[0m\u001b[0;34m\u001b[0m\u001b[0m\n\u001b[0m",
            "\u001b[0;32m<ipython-input-39-d132b5a99073>\u001b[0m in \u001b[0;36mplot_convolutional_filters\u001b[0;34m(img)\u001b[0m\n\u001b[1;32m     16\u001b[0m                 channel_image = layer_activation[0,\n\u001b[1;32m     17\u001b[0m                                                  \u001b[0;34m:\u001b[0m\u001b[0;34m,\u001b[0m \u001b[0;34m:\u001b[0m\u001b[0;34m,\u001b[0m\u001b[0;34m\u001b[0m\u001b[0;34m\u001b[0m\u001b[0m\n\u001b[0;32m---> 18\u001b[0;31m                                                  col * images_per_row + row]\n\u001b[0m\u001b[1;32m     19\u001b[0m                 \u001b[0mchannel_image\u001b[0m \u001b[0;34m-=\u001b[0m \u001b[0mchannel_image\u001b[0m\u001b[0;34m.\u001b[0m\u001b[0mmean\u001b[0m\u001b[0;34m(\u001b[0m\u001b[0;34m)\u001b[0m\u001b[0;34m\u001b[0m\u001b[0;34m\u001b[0m\u001b[0m\n\u001b[1;32m     20\u001b[0m                 \u001b[0mchannel_image\u001b[0m \u001b[0;34m/=\u001b[0m \u001b[0mchannel_image\u001b[0m\u001b[0;34m.\u001b[0m\u001b[0mstd\u001b[0m\u001b[0;34m(\u001b[0m\u001b[0;34m)\u001b[0m\u001b[0;34m\u001b[0m\u001b[0;34m\u001b[0m\u001b[0m\n",
            "\u001b[0;31mIndexError\u001b[0m: too many indices for array: array is 3-dimensional, but 4 were indexed"
          ]
        }
      ]
    },
    {
      "cell_type": "code",
      "metadata": {
        "id": "gqnH9RZMywxA"
      },
      "source": [
        ""
      ],
      "execution_count": null,
      "outputs": []
    }
  ]
}