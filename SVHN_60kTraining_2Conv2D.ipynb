{
  "nbformat": 4,
  "nbformat_minor": 0,
  "metadata": {
    "colab": {
      "name": "SVHN_60kTraining_2Conv2D(5*5).ipynb",
      "provenance": [],
      "collapsed_sections": []
    },
    "kernelspec": {
      "name": "python3",
      "display_name": "Python 3"
    },
    "language_info": {
      "name": "python"
    }
  },
  "cells": [
    {
      "cell_type": "code",
      "metadata": {
        "id": "8EMyc7ZgWLhS"
      },
      "source": [
        "import numpy as np\n",
        "import keras\n",
        "import seaborn as sns\n",
        "from matplotlib import pyplot as plt\n",
        "from scipy.io import loadmat\n",
        "from sklearn.model_selection import train_test_split\n",
        "from sklearn.preprocessing import LabelBinarizer\n",
        "from sklearn.metrics import confusion_matrix\n",
        "from keras.preprocessing.image import ImageDataGenerator\n",
        "from time import time\n",
        "%matplotlib inline"
      ],
      "execution_count": null,
      "outputs": []
    },
    {
      "cell_type": "code",
      "metadata": {
        "id": "kZjQOhMUWcJp"
      },
      "source": [
        "# Set random state\n",
        "\n",
        "np.random.seed(20)"
      ],
      "execution_count": null,
      "outputs": []
    },
    {
      "cell_type": "code",
      "metadata": {
        "id": "Ptc9dzA9Wjcs"
      },
      "source": [
        "# Load the data\n",
        "train_raw = loadmat('/content/sample_data/train_32x32.mat')\n",
        "test_raw = loadmat('/content/sample_data/test_32x32.mat')"
      ],
      "execution_count": null,
      "outputs": []
    },
    {
      "cell_type": "code",
      "metadata": {
        "id": "A4Fo8BWZWywL"
      },
      "source": [
        "# Load images and labels\n",
        "\n",
        "train_images = np.array(train_raw['X'])\n",
        "test_images = np.array(test_raw['X'])\n",
        "\n",
        "train_labels = train_raw['y']\n",
        "test_labels = test_raw['y']"
      ],
      "execution_count": null,
      "outputs": []
    },
    {
      "cell_type": "code",
      "metadata": {
        "colab": {
          "base_uri": "https://localhost:8080/"
        },
        "id": "SvTz8UsDYMPv",
        "outputId": "656b1e3a-cfa0-41db-81c8-36a35ab22b9b"
      },
      "source": [
        "train_images = np.moveaxis(train_images, -1, 0)\n",
        "test_images = np.moveaxis(test_images, -1, 0)\n",
        "\n",
        "print(train_images.shape)\n",
        "print(test_images.shape)"
      ],
      "execution_count": null,
      "outputs": [
        {
          "output_type": "stream",
          "text": [
            "(73257, 32, 32, 3)\n",
            "(26032, 32, 32, 3)\n"
          ],
          "name": "stdout"
        }
      ]
    },
    {
      "cell_type": "code",
      "metadata": {
        "colab": {
          "base_uri": "https://localhost:8080/",
          "height": 283
        },
        "id": "mMfZ_PBkYPBp",
        "outputId": "00c2b36e-c4c1-4325-afa9-4e72adf8b212"
      },
      "source": [
        "# Plot a random image and its label\n",
        "\n",
        "plt.imshow(train_images[13000])\n",
        "plt.show()\n",
        "\n",
        "print('Label: ', train_labels[13000])"
      ],
      "execution_count": null,
      "outputs": [
        {
          "output_type": "display_data",
          "data": {
            "image/png": "[encoded data removed]",
            "text/plain": [
              "<Figure size 432x288 with 1 Axes>"
            ]
          },
          "metadata": {
            "tags": [],
            "needs_background": "light"
          }
        },
        {
          "output_type": "stream",
          "text": [
            "Label:  [4]\n"
          ],
          "name": "stdout"
        }
      ]
    },
    {
      "cell_type": "code",
      "metadata": {
        "id": "b8xC49swYR5B"
      },
      "source": [
        "# Convert train and test images into 'float64' type\n",
        "\n",
        "train_images = train_images.astype('float64')\n",
        "test_images = test_images.astype('float64')"
      ],
      "execution_count": null,
      "outputs": []
    },
    {
      "cell_type": "code",
      "metadata": {
        "id": "1UHxn-3QYT8w"
      },
      "source": [
        "# Convert train and test labels into 'int64' type\n",
        "\n",
        "train_labels = train_labels.astype('int64')\n",
        "test_labels = test_labels.astype('int64')"
      ],
      "execution_count": null,
      "outputs": []
    },
    {
      "cell_type": "code",
      "metadata": {
        "colab": {
          "base_uri": "https://localhost:8080/"
        },
        "id": "RqEVYa8UYV_K",
        "outputId": "8cdacc97-f03c-4e8a-b57e-6c7ca21bc3eb"
      },
      "source": [
        "# Normalize the images data\n",
        "\n",
        "print('Min: {}, Max: {}'.format(train_images.min(), train_images.max()))\n",
        "\n",
        "train_images /= 255.0\n",
        "test_images /= 255.0"
      ],
      "execution_count": null,
      "outputs": [
        {
          "output_type": "stream",
          "text": [
            "Min: 0.0, Max: 255.0\n"
          ],
          "name": "stdout"
        }
      ]
    },
    {
      "cell_type": "code",
      "metadata": {
        "id": "AkjBjkz8YX5w"
      },
      "source": [
        "# One-hot encoding of train and test labels\n",
        "\n",
        "lb = LabelBinarizer()\n",
        "train_labels = lb.fit_transform(train_labels)\n",
        "test_labels = lb.fit_transform(test_labels)"
      ],
      "execution_count": null,
      "outputs": []
    },
    {
      "cell_type": "code",
      "metadata": {
        "id": "2hu9Pp5GYacw"
      },
      "source": [
        "# Split train data into train and validation sets\n",
        "\n",
        "X_train, X_val, y_train, y_val = train_test_split(train_images, train_labels,\n",
        "                                                  test_size=0.15, random_state=22)"
      ],
      "execution_count": null,
      "outputs": []
    },
    {
      "cell_type": "code",
      "metadata": {
        "id": "ubXAep9pYgJn"
      },
      "source": [
        "X_train = X_train[:60000,:,:,:]\n",
        "y_train = y_train[:60000]\n",
        "\n",
        "X_val = X_val[:10000,:,:,:]\n",
        "y_val = y_val[:10000]"
      ],
      "execution_count": null,
      "outputs": []
    },
    {
      "cell_type": "code",
      "metadata": {
        "colab": {
          "base_uri": "https://localhost:8080/"
        },
        "id": "O-PBI5TLYjvG",
        "outputId": "c2aa8678-1d48-4a59-96eb-2ff2b401c0ce"
      },
      "source": [
        "y_val.shape"
      ],
      "execution_count": null,
      "outputs": [
        {
          "output_type": "execute_result",
          "data": {
            "text/plain": [
              "(10000, 10)"
            ]
          },
          "metadata": {
            "tags": []
          },
          "execution_count": 19
        }
      ]
    },
    {
      "cell_type": "code",
      "metadata": {
        "id": "u1wCLzKmYlZ_"
      },
      "source": [
        "# Data augmentation (CNN Layer)\n",
        "\n",
        "datagen = ImageDataGenerator(rotation_range=8,\n",
        "                             zoom_range=[0.95, 1.05],\n",
        "                             height_shift_range=0.10,\n",
        "                             shear_range=0.15)"
      ],
      "execution_count": null,
      "outputs": []
    },
    {
      "cell_type": "code",
      "metadata": {
        "id": "IxAgqrQMYnXG"
      },
      "source": [
        "# Define actual model\n",
        "\n",
        "keras.backend.clear_session()\n",
        "\n",
        "model = keras.Sequential([\n",
        "    keras.layers.Conv2D(32, (5, 5), padding='same', \n",
        "                           activation='relu',\n",
        "                           input_shape=(32, 32, 3)),\n",
        "                          \n",
        "    keras.layers.BatchNormalization(),\n",
        "    keras.layers.MaxPooling2D((2, 2)), \n",
        "\n",
        "    keras.layers.Conv2D(64, (5, 5), padding='same', \n",
        "                        activation='relu'),\n",
        "     \n",
        "    keras.layers.BatchNormalization(),\n",
        "    keras.layers.MaxPooling2D((2, 2)),    \n",
        "    keras.layers.Dropout(0.3),\n",
        "    \n",
        "    keras.layers.Flatten(),\n",
        "    keras.layers.Dense(1000, activation='relu'),\n",
        "    keras.layers.Dropout(0.4),    \n",
        "    keras.layers.Dense(10,  activation='softmax')\n",
        "])\n",
        "\n",
        "\n",
        "early_stopping = keras.callbacks.EarlyStopping(patience=8)\n",
        "optimizer = keras.optimizers.Adam(lr=1e-3, amsgrad=True)\n",
        "model_checkpoint = keras.callbacks.ModelCheckpoint(\n",
        "                   '/content/sample_data/best_cnn.h5', \n",
        "                   save_best_only=True)\n",
        "model.compile(optimizer=optimizer,\n",
        "              loss='categorical_crossentropy',\n",
        "              metrics=['accuracy'])"
      ],
      "execution_count": null,
      "outputs": []
    },
    {
      "cell_type": "code",
      "metadata": {
        "colab": {
          "base_uri": "https://localhost:8080/"
        },
        "id": "mOXk3UvsYtPF",
        "outputId": "299c19e4-6180-4407-edd0-17b02cffb002"
      },
      "source": [
        "model.summary()"
      ],
      "execution_count": null,
      "outputs": [
        {
          "output_type": "stream",
          "text": [
            "Model: \"sequential\"\n",
            "_________________________________________________________________\n",
            "Layer (type)                 Output Shape              Param #   \n",
            "=================================================================\n",
            "conv2d (Conv2D)              (None, 32, 32, 32)        2432      \n",
            "_________________________________________________________________\n",
            "batch_normalization (BatchNo (None, 32, 32, 32)        128       \n",
            "_________________________________________________________________\n",
            "max_pooling2d (MaxPooling2D) (None, 16, 16, 32)        0         \n",
            "_________________________________________________________________\n",
            "conv2d_1 (Conv2D)            (None, 16, 16, 64)        51264     \n",
            "_________________________________________________________________\n",
            "batch_normalization_1 (Batch (None, 16, 16, 64)        256       \n",
            "_________________________________________________________________\n",
            "max_pooling2d_1 (MaxPooling2 (None, 8, 8, 64)          0         \n",
            "_________________________________________________________________\n",
            "dropout (Dropout)            (None, 8, 8, 64)          0         \n",
            "_________________________________________________________________\n",
            "flatten (Flatten)            (None, 4096)              0         \n",
            "_________________________________________________________________\n",
            "dense (Dense)                (None, 1000)              4097000   \n",
            "_________________________________________________________________\n",
            "dropout_1 (Dropout)          (None, 1000)              0         \n",
            "_________________________________________________________________\n",
            "dense_1 (Dense)              (None, 10)                10010     \n",
            "=================================================================\n",
            "Total params: 4,161,090\n",
            "Trainable params: 4,160,898\n",
            "Non-trainable params: 192\n",
            "_________________________________________________________________\n"
          ],
          "name": "stdout"
        }
      ]
    },
    {
      "cell_type": "code",
      "metadata": {
        "colab": {
          "base_uri": "https://localhost:8080/"
        },
        "id": "VSY53ZaVYvgN",
        "outputId": "719ecc29-912f-4837-99bf-2ddf29aed69b"
      },
      "source": [
        "# Fit model in order to make predictions\n",
        "start = time()\n",
        "history = model.fit_generator(datagen.flow(X_train, y_train, batch_size=128),\n",
        "                              epochs=30, validation_data=(X_val, y_val),\n",
        "                              callbacks=[early_stopping, model_checkpoint])\n",
        "end = time()\n",
        "end = end - start\n",
        "print('Time taken to train the data:{:.3f} seconds'.format(end))"
      ],
      "execution_count": null,
      "outputs": [
        {
          "output_type": "stream",
          "text": [
            "/usr/local/lib/python3.7/dist-packages/tensorflow/python/keras/engine/training.py:1844: UserWarning: `Model.fit_generator` is deprecated and will be removed in a future version. Please use `Model.fit`, which supports generators.\n",
            "  warnings.warn('`Model.fit_generator` is deprecated and '\n"
          ],
          "name": "stderr"
        },
        {
          "output_type": "stream",
          "text": [
            "Epoch 1/30\n",
            "469/469 [==============================] - 310s 659ms/step - loss: 2.4230 - accuracy: 0.4166 - val_loss: 0.8573 - val_accuracy: 0.7252\n",
            "Epoch 2/30\n",
            "469/469 [==============================] - 307s 654ms/step - loss: 0.6722 - accuracy: 0.7887 - val_loss: 0.3894 - val_accuracy: 0.8839\n",
            "Epoch 3/30\n",
            "469/469 [==============================] - 307s 654ms/step - loss: 0.5353 - accuracy: 0.8327 - val_loss: 0.3436 - val_accuracy: 0.9022\n",
            "Epoch 4/30\n",
            "469/469 [==============================] - 307s 655ms/step - loss: 0.4804 - accuracy: 0.8517 - val_loss: 0.4089 - val_accuracy: 0.8850\n",
            "Epoch 5/30\n",
            "469/469 [==============================] - 311s 662ms/step - loss: 0.4373 - accuracy: 0.8663 - val_loss: 0.3458 - val_accuracy: 0.9021\n",
            "Epoch 6/30\n",
            "469/469 [==============================] - 307s 654ms/step - loss: 0.3872 - accuracy: 0.8819 - val_loss: 0.2769 - val_accuracy: 0.9227\n",
            "Epoch 7/30\n",
            "469/469 [==============================] - 308s 656ms/step - loss: 0.3717 - accuracy: 0.8865 - val_loss: 0.2814 - val_accuracy: 0.9184\n",
            "Epoch 8/30\n",
            "469/469 [==============================] - 308s 657ms/step - loss: 0.3454 - accuracy: 0.8944 - val_loss: 0.2926 - val_accuracy: 0.9225\n",
            "Epoch 9/30\n",
            "469/469 [==============================] - 306s 653ms/step - loss: 0.3330 - accuracy: 0.9001 - val_loss: 0.2584 - val_accuracy: 0.9284\n",
            "Epoch 10/30\n",
            "469/469 [==============================] - 306s 652ms/step - loss: 0.3110 - accuracy: 0.9047 - val_loss: 0.2638 - val_accuracy: 0.9261\n",
            "Epoch 11/30\n",
            "469/469 [==============================] - 303s 647ms/step - loss: 0.2960 - accuracy: 0.9095 - val_loss: 0.2997 - val_accuracy: 0.9193\n",
            "Epoch 12/30\n",
            "469/469 [==============================] - 304s 649ms/step - loss: 0.2782 - accuracy: 0.9140 - val_loss: 0.2723 - val_accuracy: 0.9243\n",
            "Epoch 13/30\n",
            "469/469 [==============================] - 304s 648ms/step - loss: 0.2711 - accuracy: 0.9189 - val_loss: 0.2621 - val_accuracy: 0.9268\n",
            "Epoch 14/30\n",
            "469/469 [==============================] - 303s 647ms/step - loss: 0.2648 - accuracy: 0.9210 - val_loss: 0.2570 - val_accuracy: 0.9305\n",
            "Epoch 15/30\n",
            "469/469 [==============================] - 306s 652ms/step - loss: 0.2401 - accuracy: 0.9251 - val_loss: 0.2409 - val_accuracy: 0.9331\n",
            "Epoch 16/30\n",
            "469/469 [==============================] - 305s 650ms/step - loss: 0.2372 - accuracy: 0.9270 - val_loss: 0.2428 - val_accuracy: 0.9361\n",
            "Epoch 17/30\n",
            "469/469 [==============================] - 305s 650ms/step - loss: 0.2225 - accuracy: 0.9308 - val_loss: 0.2406 - val_accuracy: 0.9355\n",
            "Epoch 18/30\n",
            "469/469 [==============================] - 307s 654ms/step - loss: 0.2162 - accuracy: 0.9341 - val_loss: 0.2311 - val_accuracy: 0.9375\n",
            "Epoch 19/30\n",
            "469/469 [==============================] - 307s 654ms/step - loss: 0.2137 - accuracy: 0.9331 - val_loss: 0.2306 - val_accuracy: 0.9393\n",
            "Epoch 20/30\n",
            "469/469 [==============================] - 312s 665ms/step - loss: 0.2106 - accuracy: 0.9355 - val_loss: 0.2447 - val_accuracy: 0.9360\n",
            "Epoch 21/30\n",
            "469/469 [==============================] - 306s 652ms/step - loss: 0.1932 - accuracy: 0.9397 - val_loss: 0.2496 - val_accuracy: 0.9335\n",
            "Epoch 22/30\n",
            "469/469 [==============================] - 308s 656ms/step - loss: 0.1965 - accuracy: 0.9400 - val_loss: 0.2318 - val_accuracy: 0.9388\n",
            "Epoch 23/30\n",
            "469/469 [==============================] - 309s 658ms/step - loss: 0.1863 - accuracy: 0.9421 - val_loss: 0.2354 - val_accuracy: 0.9371\n",
            "Epoch 24/30\n",
            "469/469 [==============================] - 310s 661ms/step - loss: 0.1758 - accuracy: 0.9450 - val_loss: 0.2378 - val_accuracy: 0.9398\n",
            "Epoch 25/30\n",
            "469/469 [==============================] - 308s 657ms/step - loss: 0.1761 - accuracy: 0.9445 - val_loss: 0.2367 - val_accuracy: 0.9374\n",
            "Epoch 26/30\n",
            "469/469 [==============================] - 312s 666ms/step - loss: 0.1742 - accuracy: 0.9459 - val_loss: 0.2279 - val_accuracy: 0.9419\n",
            "Epoch 27/30\n",
            "469/469 [==============================] - 336s 717ms/step - loss: 0.1733 - accuracy: 0.9465 - val_loss: 0.2739 - val_accuracy: 0.9362\n",
            "Epoch 28/30\n",
            "469/469 [==============================] - 319s 680ms/step - loss: 0.1658 - accuracy: 0.9473 - val_loss: 0.2460 - val_accuracy: 0.9406\n",
            "Epoch 29/30\n",
            "469/469 [==============================] - 315s 671ms/step - loss: 0.1578 - accuracy: 0.9506 - val_loss: 0.2532 - val_accuracy: 0.9354\n",
            "Epoch 30/30\n",
            "469/469 [==============================] - 304s 648ms/step - loss: 0.1526 - accuracy: 0.9527 - val_loss: 0.2442 - val_accuracy: 0.9374\n",
            "Time taken to train the data:9263.205 seconds\n"
          ],
          "name": "stdout"
        }
      ]
    },
    {
      "cell_type": "code",
      "metadata": {
        "id": "_x-_8bY7YyDb"
      },
      "source": [
        "# Evaluate train and validation accuracies and losses\n",
        "\n",
        "train_acc = history.history['accuracy']\n",
        "val_acc = history.history['val_accuracy']\n",
        "\n",
        "train_loss = history.history['loss']\n",
        "val_loss = history.history['val_loss']"
      ],
      "execution_count": null,
      "outputs": []
    },
    {
      "cell_type": "code",
      "metadata": {
        "colab": {
          "base_uri": "https://localhost:8080/",
          "height": 453
        },
        "id": "I7yrkdCdDJtH",
        "outputId": "684bcd4f-bf7e-4228-fb82-d413ef6e2519"
      },
      "source": [
        "# Visualize epochs vs. train and validation accuracies and losses\n",
        "\n",
        "plt.figure(figsize=(20, 10))\n",
        "\n",
        "plt.subplot(1, 2, 1)\n",
        "plt.plot(train_acc, label='Training Accuracy')\n",
        "plt.plot(val_acc, label='Validation Accuracy')\n",
        "plt.legend()\n",
        "plt.title('Epochs vs. Training and Validation Accuracy')\n",
        "    \n",
        "plt.subplot(1, 2, 2)\n",
        "plt.plot(train_loss, label='Training Loss')\n",
        "plt.plot(val_loss, label='Validation Loss')\n",
        "plt.legend()\n",
        "plt.title('Epochs vs. Training and Validation Loss')\n",
        "\n",
        "plt.show()"
      ],
      "execution_count": null,
      "outputs": [
        {
          "output_type": "display_data",
          "data": {
            "image/png": "[encoded data removed]",
            "text/plain": [
              "<Figure size 1440x720 with 2 Axes>"
            ]
          },
          "metadata": {
            "tags": [],
            "needs_background": "light"
          }
        }
      ]
    },
    {
      "cell_type": "code",
      "metadata": {
        "colab": {
          "base_uri": "https://localhost:8080/"
        },
        "id": "h_RI6FWmDKRm",
        "outputId": "29485018-3fa3-410b-e758-05f26c929a0e"
      },
      "source": [
        "# Evaluate model on test data\n",
        "test_loss, test_acc = model.evaluate(x=test_images, y=test_labels, verbose=0)\n",
        "\n",
        "print('Test accuracy is: {:0.4f} \\nTest loss is: {:0.4f}'.\n",
        "      format(test_acc, test_loss))"
      ],
      "execution_count": null,
      "outputs": [
        {
          "output_type": "stream",
          "text": [
            "Test accuracy is: 0.9318 \n",
            "Test loss is: 0.2613\n"
          ],
          "name": "stdout"
        }
      ]
    },
    {
      "cell_type": "code",
      "metadata": {
        "id": "TwMFRuMzDM6m"
      },
      "source": [
        "# Get predictions and apply inverse transformation to the labels (visualization and impacts)\n",
        "y_pred = model.predict(X_train)\n",
        "\n",
        "y_pred = lb.inverse_transform(y_pred, lb.classes_)\n",
        "y_train = lb.inverse_transform(y_train, lb.classes_)\n"
      ],
      "execution_count": null,
      "outputs": []
    },
    {
      "cell_type": "code",
      "metadata": {
        "colab": {
          "base_uri": "https://localhost:8080/",
          "height": 730
        },
        "id": "3vpOiTZTDSJf",
        "outputId": "5817d726-e543-4504-a387-39aeb7a40bd4"
      },
      "source": [
        "# Plot the confusion matrix\n",
        "\n",
        "matrix = confusion_matrix(y_train, y_pred, labels=lb.classes_)\n",
        "\n",
        "fig, ax = plt.subplots(figsize=(14, 12))\n",
        "sns.heatmap(matrix, annot=True, cmap='Greens', fmt='d', ax=ax)\n",
        "plt.title('Confusion Matrix for training dataset')\n",
        "plt.xlabel('Predicted label')\n",
        "plt.ylabel('True label')\n",
        "plt.show()"
      ],
      "execution_count": null,
      "outputs": [
        {
          "output_type": "display_data",
          "data": {
            "image/png": "[encoded data removed]",
            "text/plain": [
              "<Figure size 1008x864 with 2 Axes>"
            ]
          },
          "metadata": {
            "tags": [],
            "needs_background": "light"
          }
        }
      ]
    },
    {
      "cell_type": "code",
      "metadata": {
        "colab": {
          "base_uri": "https://localhost:8080/"
        },
        "id": "ubCFXBlqDVkv",
        "outputId": "3b57ae30-d19c-4dfc-817d-6ff8bb5ec22b"
      },
      "source": [
        "# Ignore the errors in the plots\n",
        "\n",
        "np.seterr(all='ignore')"
      ],
      "execution_count": null,
      "outputs": [
        {
          "output_type": "execute_result",
          "data": {
            "text/plain": [
              "{'divide': 'ignore', 'invalid': 'ignore', 'over': 'ignore', 'under': 'ignore'}"
            ]
          },
          "metadata": {
            "tags": []
          },
          "execution_count": 32
        }
      ]
    },
    {
      "cell_type": "code",
      "metadata": {
        "id": "z6_BBCb-DZTy"
      },
      "source": [
        "# Get convolutional layers\n",
        "\n",
        "layers = [model.get_layer('conv2d_1')\n",
        "         ]"
      ],
      "execution_count": null,
      "outputs": []
    },
    {
      "cell_type": "code",
      "metadata": {
        "id": "aYW6PFWjDbmK"
      },
      "source": [
        "# Define a model which gives the outputs of the layers\n",
        "\n",
        "layer_outputs = [layer.output for layer in layers]\n",
        "activation_model = keras.models.Model(inputs=model.input, outputs=layer_outputs)"
      ],
      "execution_count": null,
      "outputs": []
    },
    {
      "cell_type": "code",
      "metadata": {
        "id": "4OmAFfs9Dd_Q"
      },
      "source": [
        "# Create a list with the names of the layers\n",
        "\n",
        "layer_names = []\n",
        "for layer in layers:\n",
        "    layer_names.append(layer.name)"
      ],
      "execution_count": null,
      "outputs": []
    },
    {
      "cell_type": "code",
      "metadata": {
        "id": "DlnLobLdDhVY"
      },
      "source": [
        "# Define a function which will plot the convolutional filters\n",
        "\n",
        "def plot_convolutional_filters(img):\n",
        "    \n",
        "    img = np.expand_dims(img, axis=0)\n",
        "    activations = activation_model.predict(img)\n",
        "    images_per_row = 9\n",
        "    \n",
        "    for layer_name, layer_activation in zip(layer_names, activations): \n",
        "        n_features = layer_activation.shape[-1]\n",
        "        size = layer_activation.shape[1]\n",
        "        n_cols = n_features // images_per_row\n",
        "        display_grid = np.zeros((size * n_cols, images_per_row * size))\n",
        "        for col in range(n_cols): \n",
        "            for row in range(images_per_row):\n",
        "                channel_image = layer_activation[0,\n",
        "                                                 :, :,\n",
        "                                                 col * images_per_row + row]\n",
        "                channel_image -= channel_image.mean()\n",
        "                channel_image /= channel_image.std()\n",
        "                channel_image *= 64\n",
        "                channel_image += 128\n",
        "                channel_image = np.clip(channel_image, 0, 255).astype('uint8')\n",
        "                display_grid[col * size : (col + 1) * size,\n",
        "                             row * size : (row + 1) * size] = channel_image\n",
        "        scale = 1. / size\n",
        "        plt.figure(figsize=(scale * display_grid.shape[1],\n",
        "                            scale * display_grid.shape[0]))\n",
        "        plt.title(layer_name)\n",
        "        plt.grid(False)\n",
        "        plt.imshow(display_grid, aspect='auto', cmap='plasma')"
      ],
      "execution_count": null,
      "outputs": []
    },
    {
      "cell_type": "code",
      "metadata": {
        "colab": {
          "base_uri": "https://localhost:8080/",
          "height": 266
        },
        "id": "jSf5t6ZzDji_",
        "outputId": "c64146e8-1eae-4825-9f3f-34d5b1e09e8a"
      },
      "source": [
        "img = X_train[13529]\n",
        "plt.imshow(img)\n",
        "plt.show()"
      ],
      "execution_count": null,
      "outputs": [
        {
          "output_type": "display_data",
          "data": {
            "image/png": "[encoded data removed]",
            "text/plain": [
              "<Figure size 432x288 with 1 Axes>"
            ]
          },
          "metadata": {
            "tags": [],
            "needs_background": "light"
          }
        }
      ]
    },
    {
      "cell_type": "code",
      "metadata": {
        "colab": {
          "base_uri": "https://localhost:8080/",
          "height": 283
        },
        "id": "PDkD0dlbDmLn",
        "outputId": "7cbf695f-9155-4963-9c20-d2c8234874f9"
      },
      "source": [
        "plot_convolutional_filters(img)"
      ],
      "execution_count": null,
      "outputs": [
        {
          "output_type": "error",
          "ename": "IndexError",
          "evalue": "ignored",
          "traceback": [
            "\u001b[0;31m---------------------------------------------------------------------------\u001b[0m",
            "\u001b[0;31mIndexError\u001b[0m                                Traceback (most recent call last)",
            "\u001b[0;32m<ipython-input-38-e497f27313a1>\u001b[0m in \u001b[0;36m<module>\u001b[0;34m()\u001b[0m\n\u001b[0;32m----> 1\u001b[0;31m \u001b[0mplot_convolutional_filters\u001b[0m\u001b[0;34m(\u001b[0m\u001b[0mimg\u001b[0m\u001b[0;34m)\u001b[0m\u001b[0;34m\u001b[0m\u001b[0;34m\u001b[0m\u001b[0m\n\u001b[0m",
            "\u001b[0;32m<ipython-input-36-d132b5a99073>\u001b[0m in \u001b[0;36mplot_convolutional_filters\u001b[0;34m(img)\u001b[0m\n\u001b[1;32m     16\u001b[0m                 channel_image = layer_activation[0,\n\u001b[1;32m     17\u001b[0m                                                  \u001b[0;34m:\u001b[0m\u001b[0;34m,\u001b[0m \u001b[0;34m:\u001b[0m\u001b[0;34m,\u001b[0m\u001b[0;34m\u001b[0m\u001b[0;34m\u001b[0m\u001b[0m\n\u001b[0;32m---> 18\u001b[0;31m                                                  col * images_per_row + row]\n\u001b[0m\u001b[1;32m     19\u001b[0m                 \u001b[0mchannel_image\u001b[0m \u001b[0;34m-=\u001b[0m \u001b[0mchannel_image\u001b[0m\u001b[0;34m.\u001b[0m\u001b[0mmean\u001b[0m\u001b[0;34m(\u001b[0m\u001b[0;34m)\u001b[0m\u001b[0;34m\u001b[0m\u001b[0;34m\u001b[0m\u001b[0m\n\u001b[1;32m     20\u001b[0m                 \u001b[0mchannel_image\u001b[0m \u001b[0;34m/=\u001b[0m \u001b[0mchannel_image\u001b[0m\u001b[0;34m.\u001b[0m\u001b[0mstd\u001b[0m\u001b[0;34m(\u001b[0m\u001b[0;34m)\u001b[0m\u001b[0;34m\u001b[0m\u001b[0;34m\u001b[0m\u001b[0m\n",
            "\u001b[0;31mIndexError\u001b[0m: too many indices for array: array is 3-dimensional, but 4 were indexed"
          ]
        }
      ]
    }
  ]
}